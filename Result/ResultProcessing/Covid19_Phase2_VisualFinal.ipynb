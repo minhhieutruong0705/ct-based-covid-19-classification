{
  "nbformat": 4,
  "nbformat_minor": 0,
  "metadata": {
    "colab": {
      "name": "Covid19_Phase2_VisualFinal.ipynb",
      "provenance": [],
      "collapsed_sections": []
    },
    "kernelspec": {
      "name": "python3",
      "display_name": "Python 3"
    },
    "language_info": {
      "name": "python"
    }
  },
  "cells": [
    {
      "cell_type": "code",
      "metadata": {
        "id": "7Fr9v6f4wIQ0"
      },
      "source": [
        "# %cd ~/Minh\\ Hieu"
      ],
      "execution_count": null,
      "outputs": []
    },
    {
      "cell_type": "code",
      "metadata": {
        "id": "IW839njpx79g"
      },
      "source": [
        "%cd /media/truong/New Volume/DONE/Projects/Covid CT-base Classification/Implementation/2. Binary Classification"
      ],
      "execution_count": null,
      "outputs": []
    },
    {
      "cell_type": "code",
      "metadata": {
        "id": "2fA32DyPvwRo"
      },
      "source": [
        "import matplotlib.pyplot as plt\n",
        "import numpy as np\n",
        "import os"
      ],
      "execution_count": null,
      "outputs": []
    },
    {
      "cell_type": "code",
      "metadata": {
        "id": "Ni8yfdNb34Wo"
      },
      "source": [
        "def get_scores(data, key):\n",
        "  data_class = []\n",
        "  data_mask = []\n",
        "  signal = \"STOP\"\n",
        "\n",
        "  for line in data:\n",
        "    line = line.strip()\n",
        "    if signal == \"START\":\n",
        "      if \"[Classification]\" in line:\n",
        "        elements = line.split(\",\")\n",
        "        scores_class = [float(element.split(\" \")[-1]) for element in elements]\n",
        "        data_class.append(scores_class)\n",
        "      if \"[Segmentation]\" in line:\n",
        "        elements = line.split(\",\")\n",
        "        scores_mask = [float(element.split(\" \")[-1]) for element in elements]\n",
        "        data_mask.append(scores_mask)\n",
        "        signal = \"STOP\"\n",
        "    if key in line:\n",
        "      signal = \"START\"\n",
        "      epoch = int((line.split(\" \")[-1])[:-1])\n",
        "\n",
        "  return np.array(data_class), np.array(data_mask)"
      ],
      "execution_count": null,
      "outputs": []
    },
    {
      "cell_type": "code",
      "metadata": {
        "id": "3gBccBn3woBd"
      },
      "source": [
        "def parse_data (file_path):\n",
        "  file = open(file_path, \"r\")\n",
        "  data = file.read().split(\"\\n\")[1:]\n",
        "  file.close()\n",
        "\n",
        "  train_data_class, train_data_mask = get_scores(data, \"[TRAIN]\")\n",
        "  eval_data_class, eval_data_mask = get_scores(data, \"[EVAL]\")\n",
        "  test_data_class, test_data_mask = get_scores(data, \"[TEST]\")\n",
        "\n",
        "  return train_data_class, train_data_mask, eval_data_class, eval_data_mask, test_data_class, test_data_mask"
      ],
      "execution_count": null,
      "outputs": []
    },
    {
      "cell_type": "code",
      "metadata": {
        "id": "eHRgWSyNx05U"
      },
      "source": [
        "def sub_visual(x, ys, margin, graph_name, indices, is_finish, is_margin=True):\n",
        "  global LABELS\n",
        "  fig = plt.figure(figsize=(10, 10))\n",
        "  plt.title(graph_name)\n",
        "  plt.xlabel('Epoch')\n",
        "  for i in indices:\n",
        "    y = ys[i]\n",
        "    if margin[0] == 1:\n",
        "      y_interest_index = np.argmax(y)\n",
        "    else:\n",
        "      y_interest_index = np.argmin(y)\n",
        "    plt.text(x[y_interest_index], y[y_interest_index], f\"{y[y_interest_index]:.2f}\", size = 'large')\n",
        "    plt.scatter(x[y_interest_index], y[y_interest_index], s=50)\n",
        "    plt.plot(x, y, label = LABELS[i])\n",
        "  if is_margin:\n",
        "    plt.plot(x, margin)\n",
        "  plt.legend()\n",
        "  if is_finish:\n",
        "    global out_dir\n",
        "    plt.savefig(f\"{out_dir}/{graph_name}.png\")\n",
        "  plt.show()"
      ],
      "execution_count": null,
      "outputs": []
    },
    {
      "cell_type": "code",
      "metadata": {
        "id": "4Yo9bGvSIw75"
      },
      "source": [
        "def visual(data, is_finish=False):\n",
        "  global LABELS\n",
        "  LABELS = [\"Classification Loss\", \"Classification Accuracy (Train)\", \"Classification Dice Score (Train)\",\n",
        "            \"Segmentation Loss\", \"Segmentation Accuracy (Train)\", \"Segmentation Dice Score (Train)\",\n",
        "            \"Classification Accuracy (Evaluation)\", \"Classification Dice Score (Evaluation)\", \"Classification F1 (Evaluation)\",\n",
        "            \"Segmentation Accuracy (Evaluation)\", \"Segmentation Dice Score (Evaluation)\",\n",
        "            \"Classification Accuracy (Test)\", \"Classification Dice Score (Test)\", \"Classification F1 (Test)\",\n",
        "            \"Segmentation Accuracy (Test)\", \"Segmentation Dice Score (Test)\"\n",
        "            ]\n",
        "  x = range(len(data))\n",
        "  y0 = np.zeros_like(x)\n",
        "  y1 = np.ones_like(x)\n",
        "  ys =  []\n",
        "  for i in range(data.shape[1]):\n",
        "    y = data[:,i]\n",
        "    if i != 0 and i != 3 and i != 8 and i != 13:\n",
        "      y = y/100\n",
        "    ys.append(y)\n",
        "\n",
        "  sub_visual(x, ys, y0, \"Training Loss\", [0, 3], is_finish)\n",
        "  sub_visual(x, ys, y1, \"[Train & Evaluation] Classification Dice Score\", [2, 7], is_finish)\n",
        "  sub_visual(x, ys, y1, \"[Train & Evaluation] Segmentation Dice Score\", [5, 10], is_finish)\n",
        "  sub_visual(x, ys, y1, \"[Train & Evaluation] Classification Accuracy\", [1, 6], is_finish)\n",
        "  sub_visual(x, ys, y1, \"[Train & Evaluation] Segmentation Accuracy\", [4, 9], is_finish)\n",
        "\n",
        "  if is_finish:\n",
        "    sub_visual(x, ys, y1, \"[Evaluation] Classification\", [6, 7, 8], is_finish)\n",
        "    sub_visual(x, ys, y1, \"[Evaluation] Segmentation\", [9, 10], is_finish)\n",
        "    sub_visual(x, ys, y1, \"[Test] Classification\", [11, 12, 13], is_finish)\n",
        "    sub_visual(x, ys, y1, \"[Test] Segmentation\", [14, 15], is_finish)\n",
        "    sub_visual(x, ys, y1, \"[Evaluation & Test] Classification Dice Score\", [7, 12], is_finish)\n",
        "    sub_visual(x, ys, y1, \"[Evaluation & Test] Segmentation Dice Score\", [10, 15], is_finish)"
      ],
      "execution_count": null,
      "outputs": []
    },
    {
      "cell_type": "code",
      "metadata": {
        "id": "YBAmw7ipw20G"
      },
      "source": [
        "# file_path = \"Output/CutomCrAsppReUNetHU_YESLung_108E/train_log\"\n",
        "# file_path = \"Output/CutomCrAsppReUNetPNG_YESLung_108E/train_log\"\n",
        "\n",
        "# file_path = \"Output/OriginCrAsppReUNetHU_YESLung_108E/train_log\"\n",
        "# file_path = \"Output/OriginCrAsppReUNetPNG_YESLung_108E/train_log\"\n",
        "\n",
        "# file_path = \"Output/CRNetPNG_YESLung_50E_CAP/train_log\"\n",
        "\n",
        "# file_path = \"Output/CutomCrAsppReUNetPNG_YESLung_108E_CAP/train_log\"\n",
        "\n",
        "##########################################\n",
        "# file_path = \"Final_Output/CRNet_HU_256/train_log\"\n",
        "# file_path = \"Final_Output/CRNet_PNG_256/train_log\"\n",
        "\n",
        "# file_path = \"Final_Output/XNet_PNG_256/train_log\"\n",
        "# file_path = \"Final_Output/OriginalIncoNet_PNG_256/train_log\"\n",
        "# file_path = \"Final_Output/XNet_HU_256/train_log\"\n",
        "# file_path = \"Final_Output/OriginalIncoNet_HU_256/train_log\"\n",
        "\n",
        "# file_path = \"Final_Output/XNet_CAP_HU_256/train_log\"\n",
        "# file_path = \"Final_Output/XNet_CAP_PNG_256/train_log\"\n",
        "\n",
        "file_path = \"Final_Output/XNet_512/train_log\"\n",
        "\n",
        "file_path = file_path.replace(\"Final_Output\", \"Model Results\")\n",
        "out_dir = file_path.replace(\"train_log\", \"graphs\")\n",
        "train_data_class, train_data_mask, eval_data_class, eval_data_mask, test_data_class, test_data_mask = parse_data (file_path)\n",
        "# visual(np.concatenate((train_data_class, train_data_mask, eval_data_class, eval_data_mask), axis=1))                                                          #For training diagnosis\n",
        "visual(np.concatenate((train_data_class, train_data_mask, eval_data_class, eval_data_mask, test_data_class, test_data_mask), axis=1), is_finish=True)         #For result diagnosis"
      ],
      "execution_count": null,
      "outputs": []
    },
    {
      "cell_type": "code",
      "metadata": {
        "id": "E-zHAO3kkSnI"
      },
      "source": [
        "!nvidia-smi"
      ],
      "execution_count": null,
      "outputs": []
    }
  ]
}