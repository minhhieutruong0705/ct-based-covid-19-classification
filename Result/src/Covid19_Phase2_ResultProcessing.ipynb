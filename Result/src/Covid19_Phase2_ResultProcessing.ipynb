{
  "nbformat": 4,
  "nbformat_minor": 0,
  "metadata": {
    "colab": {
      "name": "Covid19_Phase2_ResultProcessing.ipynb",
      "provenance": [],
      "collapsed_sections": []
    },
    "kernelspec": {
      "name": "python3",
      "display_name": "Python 3"
    },
    "language_info": {
      "name": "python"
    }
  },
  "cells": [
    {
      "cell_type": "code",
      "metadata": {
        "id": "SKa5mx_p8MGW"
      },
      "source": [
        "# %cd ~/Minh\\ Hieu"
      ],
      "execution_count": null,
      "outputs": []
    },
    {
      "cell_type": "code",
      "metadata": {
        "id": "02CeMijz23nO"
      },
      "source": [
        "%cd /media/truong/New Volume/DONE/Projects/Covid CT-base Classification/Implementation/2. Binary Classification"
      ],
      "execution_count": null,
      "outputs": []
    },
    {
      "cell_type": "code",
      "metadata": {
        "id": "-H1fSOEG9Ch_"
      },
      "source": [
        "import numpy as np\n",
        "import math"
      ],
      "execution_count": null,
      "outputs": []
    },
    {
      "cell_type": "code",
      "metadata": {
        "id": "Ni8yfdNb34Wo"
      },
      "source": [
        "## Copy from VisualFinal\n",
        "def get_scores(data, key):\n",
        "  data_class = []\n",
        "  data_mask = []\n",
        "  signal = \"STOP\"\n",
        "\n",
        "  for line in data:\n",
        "    line = line.strip()\n",
        "    if signal == \"START\":\n",
        "      if \"[Classification]\" in line:\n",
        "        elements = line.split(\",\")\n",
        "        scores_class = [float(element.split(\" \")[-1]) for element in elements]\n",
        "        data_class.append(scores_class)\n",
        "      if \"[Segmentation]\" in line:\n",
        "        elements = line.split(\",\")\n",
        "        scores_mask = [float(element.split(\" \")[-1]) for element in elements]\n",
        "        data_mask.append(scores_mask)\n",
        "        signal = \"STOP\"\n",
        "    if key in line:\n",
        "      signal = \"START\"\n",
        "      epoch = int((line.split(\" \")[-1])[:-1])\n",
        "\n",
        "  return np.array(data_class), np.array(data_mask)"
      ],
      "execution_count": null,
      "outputs": []
    },
    {
      "cell_type": "code",
      "metadata": {
        "id": "3gBccBn3woBd"
      },
      "source": [
        "## Copy from VisualFinal\n",
        "def parse_data (file_path):\n",
        "  file = open(file_path, \"r\")\n",
        "  data = file.read().split(\"\\n\")[1:]\n",
        "  file.close()\n",
        "\n",
        "  train_data_class, train_data_mask = get_scores(data, \"[TRAIN]\")\n",
        "  eval_data_class, eval_data_mask = get_scores(data, \"[EVAL]\")\n",
        "  test_data_class, test_data_mask = get_scores(data, \"[TEST]\")\n",
        "\n",
        "  return train_data_class, train_data_mask, eval_data_class, eval_data_mask, test_data_class, test_data_mask"
      ],
      "execution_count": null,
      "outputs": []
    },
    {
      "cell_type": "code",
      "metadata": {
        "id": "56pWdiuk9Sag"
      },
      "source": [
        "def process_result(data, out_file_path):\n",
        "  PROCESSING_RANGE_SEGMENTATION = 30\n",
        "  PROCESSING_RANGE_CLASSIFICATION = 80\n",
        "  LABELS = [\"Classification Accuracy (Test)\", \"Classification Dice Score (Test)\", \"Classification F1 (Test)\",\n",
        "            \"Segmentation Accuracy (Test)\", \"Segmentation Dice Score (Test)\"]\n",
        "  \n",
        "  f = open(out_file_path, \"w\")\n",
        "  for i in range(data.shape[1]):\n",
        "    scores = data[:, i]\n",
        "    if \"F1\" in LABELS[i]:\n",
        "      scores = scores * 100\n",
        "    if \"Classification\" in LABELS[i]:\n",
        "      print(f\"{LABELS[i]}:\")\n",
        "      f.write(\"\\n\")\n",
        "      f.write(f\"{LABELS[i]}:\\n\")\n",
        "      mean = round(np.mean(scores[-PROCESSING_RANGE_CLASSIFICATION:]), 3)\n",
        "      standard_deviation = round(np.std(scores[-PROCESSING_RANGE_CLASSIFICATION:]), 3)\n",
        "      standard_error = round(standard_deviation/(math.sqrt(PROCESSING_RANGE_CLASSIFICATION)), 3)\n",
        "      print(f\"Mean: {mean}, Standard Error: {standard_error}, Standard Deviation: {standard_deviation}\")\n",
        "      f.write(f\"Mean: {mean}, Standard Error: {standard_error}, Standard Deviation: {standard_deviation}\\n\")\n",
        "    else:\n",
        "      print(f\"{LABELS[i]}:\")\n",
        "      f.write(\"\\n\")\n",
        "      f.write(f\"{LABELS[i]}:\\n\")\n",
        "      mean = round(np.mean(scores[-PROCESSING_RANGE_SEGMENTATION:]), 3)\n",
        "      standard_deviation = round(np.std(scores[-PROCESSING_RANGE_SEGMENTATION:]), 3)\n",
        "      standard_error = round(standard_deviation/(math.sqrt(PROCESSING_RANGE_SEGMENTATION)), 3)\n",
        "      print(f\"Mean: {mean}, Standard Error: {standard_error}, Standard Deviation: {standard_deviation}\")\n",
        "      f.write(f\"Mean: {mean}, Standard Error: {standard_error}, Standard Deviation: {standard_deviation}\\n\")\n",
        "    print(\"\")\n",
        "  f.close()"
      ],
      "execution_count": null,
      "outputs": []
    },
    {
      "cell_type": "code",
      "metadata": {
        "id": "cUAiv-ym85UK"
      },
      "source": [
        "# file_path = \"Final_Output/CRNet_HU_256/train_log\"\n",
        "# file_path = \"Final_Output/CRNet_PNG_256/train_log\"\n",
        "\n",
        "# file_path = \"Final_Output/XNet_PNG_256/train_log\"\n",
        "# file_path = \"Final_Output/OriginalIncoNet_PNG_256/train_log\"\n",
        "# file_path = \"Final_Output/XNet_HU_256/train_log\"\n",
        "# file_path = \"Final_Output/OriginalIncoNet_HU_256/train_log\"\n",
        "\n",
        "# file_path = \"Final_Output/XNet_CAP_HU_256/train_log\"\n",
        "# file_path = \"Final_Output/XNet_CAP_PNG_256/train_log\"\n",
        "\n",
        "# file_path = \"Final_Output/XNet_512/train_log\"\n",
        "\n",
        "file_path = file_path.replace(\"Final_Output\", \"Model Results\")\n",
        "_, _, _, _, test_data_class, test_data_mask = parse_data (file_path)\n",
        "out_file_path = file_path.replace(\"train_log\", \"train_result\")\n",
        "process_result(np.concatenate((test_data_class, test_data_mask), axis=1), out_file_path)"
      ],
      "execution_count": null,
      "outputs": []
    }
  ]
}