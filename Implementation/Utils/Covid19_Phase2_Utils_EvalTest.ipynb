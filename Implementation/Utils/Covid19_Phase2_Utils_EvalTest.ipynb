{
  "nbformat": 4,
  "nbformat_minor": 0,
  "metadata": {
    "colab": {
      "name": "Covid19_Phase2_Utils_EvalTest.ipynb",
      "provenance": [],
      "collapsed_sections": []
    },
    "kernelspec": {
      "name": "python3",
      "display_name": "Python 3"
    },
    "language_info": {
      "name": "python"
    }
  },
  "cells": [
    {
      "cell_type": "code",
      "metadata": {
        "id": "zFdfqDjwO1LN"
      },
      "source": [
        "import torch\n",
        "from tqdm import tqdm"
      ],
      "execution_count": null,
      "outputs": []
    },
    {
      "cell_type": "code",
      "metadata": {
        "id": "_4HlrvWDZm6v"
      },
      "source": [
        "def save_checkpoint(state, checkpoint_filename, checkpoint_index=None):\n",
        "  torch.save(state, checkpoint_filename)\n",
        "  if checkpoint_index is not None:\n",
        "    torch.save(state, checkpoint_filename.replace(\".pth.tar\", str(checkpoint_index) + \".pth.tar\"))\n",
        "  print(\"[INFO] Checkpoint saved\")"
      ],
      "execution_count": null,
      "outputs": []
    },
    {
      "cell_type": "code",
      "metadata": {
        "id": "atuqh2HMZn88"
      },
      "source": [
        "def load_checkpoint(checkpoint, model, optimizer_class, optimizer_mask):\n",
        "  model.load_state_dict(checkpoint[\"state_dict\"])\n",
        "  optimizer_class.load_state_dict(checkpoint[\"optimizer_class\"])\n",
        "  optimizer_mask.load_state_dict(checkpoint[\"optimizer_mask\"])\n",
        "  print(\"[INFO] Checkpoint loaded\")"
      ],
      "execution_count": null,
      "outputs": []
    },
    {
      "cell_type": "code",
      "metadata": {
        "id": "-FJed6wlhr5x"
      },
      "source": [
        "def log_epoch(title, epoch, classification_acc, f1_score, classification_dice, segmentation_acc, segmentation_dice, train_log_filename): \n",
        "  f = open(train_log_filename, 'a+') \n",
        "  f.write(f\"\\n[{title}] Epoch {epoch}:\\\n",
        "  \\n[Classification] Accuracy: {classification_acc:.2f}, Dice Score: {classification_dice:.2f}, F1 Score: {f1_score:.2f}\\\n",
        "  \\n[Segmentation]   Accuracy: {segmentation_acc:.2f}, Dice Score {segmentation_dice:.2f}\") \n",
        "  f.close()"
      ],
      "execution_count": null,
      "outputs": []
    },
    {
      "cell_type": "code",
      "metadata": {
        "id": "XNrkIOdPiOH2"
      },
      "source": [
        "def log_train(epoch, classification_loss, segmentation_loss, classification_acc, segmentation_acc, classification_dice, segmentation_dice, train_log_filename):\n",
        "  f = open(train_log_filename, 'a+') \n",
        "  f.write(f\"\\n[TRAIN] Epoch {epoch}:\\\n",
        "  \\n[Classification] Loss: {classification_loss:.2f}, Accuracy: {classification_acc:.2f}, Dice Score: {classification_dice:.2f}\\\n",
        "  \\n[Segmentation]   Loss: {segmentation_loss:.2f}, Accuracy: {segmentation_acc:.2f}, Dice Score: {segmentation_dice:.2f}\")\n",
        "  f.close()"
      ],
      "execution_count": null,
      "outputs": []
    },
    {
      "cell_type": "code",
      "metadata": {
        "id": "51jeizU9tYYL"
      },
      "source": [
        "def evaluate_model_incorporate (loader, model, device):\n",
        "  tp = tn = fp = fn = 0\n",
        "  num_correct = num_pixels = 0\n",
        "  dice_score = count_dice = 0\n",
        "  model.eval()\n",
        "\n",
        "  with torch.no_grad():\n",
        "    for x, y1, y2 in tqdm(loader):\n",
        "      x = x.to(device)\n",
        "      y1 = y1.long().to(device)\n",
        "      y2 = y2.float().unsqueeze(1).to(device)\n",
        "      \n",
        "      out1, out2 = model(x)\n",
        "\n",
        "      pred1 = out1.argmax(dim=1, keepdim=True)\n",
        "      truth1 = y1.view_as(pred1)\n",
        "      tp += (pred1 * truth1).sum()\n",
        "      tn += ((1 - pred1).abs() * (1 - truth1).abs()).sum()\n",
        "      fp += (pred1 * (1 - truth1).abs()).sum()\n",
        "      fn += ((1 - pred1).abs() * truth1).sum()\n",
        "\n",
        "      pred2 = torch.sigmoid(out2)\n",
        "      pred2 = (pred2 > 0.5).float()\n",
        "      num_correct += (pred2[truth1==1] == y2[truth1==1]).sum()\n",
        "      num_pixels += torch.numel(pred2[truth1==1])\n",
        "\n",
        "      if torch.sum(truth1==1) > 0:\n",
        "        dice_score += (2 * (pred2[truth1==1] * y2[truth1==1]).sum()) / ((pred2[truth1==1] + y2[truth1==1]).sum())\n",
        "        count_dice += 1\n",
        "\n",
        "  percision = tp / (tp + fp)\n",
        "  recall = tp / (tp + fn)\n",
        "\n",
        "  f1 = 2 * percision * recall / (percision + recall) \n",
        "  accuracy_class = (tp + tn) / (tp + tn + fp + fn) * 100\n",
        "  dice_class = tp / (fp + fn + tp) * 100\n",
        "\n",
        "  if count_dice > 0:\n",
        "    accuracy_mask = num_correct/num_pixels*100\n",
        "    dice_mask = dice_score/count_dice*100\n",
        "  else:\n",
        "    accuracy_mask = 0\n",
        "    dice_mask = 0\n",
        "\n",
        "  print(\"\\n[EVAL]\")\n",
        "  print(f\"[Classification]: Dice: {dice_class:2f}, Acc: {accuracy_class:2f}, F1: {f1:2f},\")\n",
        "  print(f\"[Segmentation]:   Dice: {dice_mask:2f},  Acc: {accuracy_mask:2f}\")\n",
        "  print(f\"[Confusion]:      TP: {tp.item()}, TN: {tn.item()}, FP: {fp.item()}, FN: {fn.item()}\")\n",
        "\n",
        "  return f1, dice_class, accuracy_class, dice_mask, accuracy_mask"
      ],
      "execution_count": null,
      "outputs": []
    },
    {
      "cell_type": "code",
      "metadata": {
        "id": "tvu6_a5ISM4I"
      },
      "source": [
        "def evaluate_model_single (loader, model, device):\n",
        "  tp = tn = fp = fn = 0\n",
        "  model.eval()\n",
        "\n",
        "  with torch.no_grad():\n",
        "    for x, y1, y2 in tqdm(loader):\n",
        "      x = x.to(device)\n",
        "      y1 = y1.long().to(device)\n",
        "      \n",
        "      out1 = model(x)\n",
        "\n",
        "      pred1 = out1.argmax(dim=1, keepdim=True)\n",
        "      truth1 = y1.view_as(pred1)\n",
        "      tp += (pred1 * truth1).sum()\n",
        "      tn += ((1 - pred1).abs() * (1 - truth1).abs()).sum()\n",
        "      fp += (pred1 * (1 - truth1).abs()).sum()\n",
        "      fn += ((1 - pred1).abs() * truth1).sum()\n",
        "\n",
        "  percision = tp / (tp + fp)\n",
        "  recall = tp / (tp + fn)\n",
        "\n",
        "  f1 = 2 * percision * recall / (percision + recall) \n",
        "  accuracy_class = (tp + tn) / (tp + tn + fp + fn) * 100\n",
        "  dice_class = tp / (fp + fn + tp) * 100\n",
        "\n",
        "  print(\"\\n[EVAL]\")\n",
        "  print(f\"[Classification]: Dice: {dice_class:2f}, Acc: {accuracy_class:2f}, F1: {f1:2f},\")\n",
        "  print(f\"[Confusion]:      TP: {tp.item()}, TN: {tn.item()}, FP: {fp.item()}, FN: {fn.item()}\")\n",
        "\n",
        "  dice_mask = accuracy_mask = 0.0\n",
        "\n",
        "  return f1, dice_class, accuracy_class, dice_mask, accuracy_mask"
      ],
      "execution_count": null,
      "outputs": []
    }
  ]
}