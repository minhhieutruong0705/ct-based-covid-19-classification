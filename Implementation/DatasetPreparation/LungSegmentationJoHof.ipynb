{
  "nbformat": 4,
  "nbformat_minor": 0,
  "metadata": {
    "colab": {
      "name": "LungSegmentationJoHof.ipynb",
      "provenance": [],
      "collapsed_sections": []
    },
    "kernelspec": {
      "name": "python3",
      "display_name": "Python 3"
    },
    "language_info": {
      "name": "python"
    },
    "accelerator": "GPU"
  },
  "cells": [
    {
      "cell_type": "code",
      "metadata": {
        "id": "sGy01U_2u8dv"
      },
      "source": [
        "from google.colab import drive\n",
        "drive.mount('/content/drive', force_remount=True)"
      ],
      "execution_count": null,
      "outputs": []
    },
    {
      "cell_type": "code",
      "metadata": {
        "id": "i1PoSFcqttyB"
      },
      "source": [
        "!pip install git+https://github.com/JoHof/lungmask"
      ],
      "execution_count": null,
      "outputs": []
    },
    {
      "cell_type": "code",
      "metadata": {
        "id": "aNwTjThduP78"
      },
      "source": [
        "from lungmask import mask\n",
        "import SimpleITK as sitk\n",
        "import cv2\n",
        "import os"
      ],
      "execution_count": null,
      "outputs": []
    },
    {
      "cell_type": "code",
      "metadata": {
        "id": "ij20PLhFDeTG"
      },
      "source": [
        "# #COVID-CT-MD and MosMed Database\n",
        "# input_folder = '/content/drive/MyDrive/Dataset/COVID-CT-MD/NIfTI/Normal'\n",
        "# output_folder = '/content/drive/MyDrive/Dataset/COVID-CT-MD/NIfTI/Normal_LungMask'\n",
        "# input_folder = '/content/drive/MyDrive/Dataset/MosMed/CT-1'\n",
        "# output_folder = '/content/drive/MyDrive/Dataset/MosMed/lung_masks'\n",
        "# input_folder = '/content/drive/MyDrive/Dataset/COVID-CT-MD/NIfTI/CAP'\n",
        "# output_folder = '/content/drive/MyDrive/Dataset/COVID-CT-MD/NIfTI/CAP_LungMask'"
      ],
      "execution_count": null,
      "outputs": []
    },
    {
      "cell_type": "code",
      "metadata": {
        "id": "oPm4IbP9uAfV"
      },
      "source": [
        "writer = sitk.ImageFileWriter()\n",
        "writer.SetImageIO(\"NiftiImageIO\")"
      ],
      "execution_count": null,
      "outputs": []
    },
    {
      "cell_type": "code",
      "metadata": {
        "id": "7Bb_mKcws8yL"
      },
      "source": [
        "def load_nii_format_volume (input_path):\n",
        "    file_name = input_path.split(\"/\")[-1].split(\".\")[0]\n",
        "    print(\"[INFO] Loading \", file_name)\n",
        "\n",
        "    reader = sitk.ImageFileReader()\n",
        "    reader.SetImageIO(\"NiftiImageIO\")\n",
        "    reader.SetFileName(input_path)\n",
        "    slides = reader.Execute()\n",
        "\n",
        "    print(\"[INFO] Volume Size: \", slides.GetSize())\n",
        "    return slides"
      ],
      "execution_count": null,
      "outputs": []
    },
    {
      "cell_type": "code",
      "metadata": {
        "id": "FgqtOW-dDYKO"
      },
      "source": [
        "def get_lung_mask(in_folder, out_folder, writer):\n",
        "  for filename in os.listdir(in_folder):\n",
        "    img = load_nii_format_volume(os.path.join(in_folder, filename))\n",
        "    segmentation = mask.apply(img)\n",
        "    filename_in = os.path.splitext((os.path.splitext(filename)[0]))\n",
        "    writer.SetFileName(os.path.join(out_folder, f'{filename_in[0]}_lungmask_{filename_in[1]}.gz'))\n",
        "    writer.Execute(sitk.GetImageFromArray(segmentation))"
      ],
      "execution_count": null,
      "outputs": []
    },
    {
      "cell_type": "code",
      "metadata": {
        "id": "MnBKuq96F-Dd"
      },
      "source": [
        "get_lung_mask(input_folder, output_folder, writer)"
      ],
      "execution_count": null,
      "outputs": []
    },
    {
      "cell_type": "code",
      "metadata": {
        "id": "LsrFoq7ZIpz-"
      },
      "source": [
        "!ls -1 /content/drive/MyDrive/Dataset/MosMed/lung_masks | wc -l"
      ],
      "execution_count": null,
      "outputs": []
    }
  ]
}