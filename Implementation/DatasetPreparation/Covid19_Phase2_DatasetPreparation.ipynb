{
  "nbformat": 4,
  "nbformat_minor": 0,
  "metadata": {
    "colab": {
      "name": "Covid19_Phase2_DatasetPreparation.ipynb",
      "provenance": [],
      "collapsed_sections": []
    },
    "kernelspec": {
      "name": "python3",
      "display_name": "Python 3"
    },
    "language_info": {
      "name": "python"
    }
  },
  "cells": [
    {
      "cell_type": "code",
      "metadata": {
        "colab": {
          "base_uri": "https://localhost:8080/"
        },
        "id": "TO38Ef727hMz",
        "outputId": "b4dfc75c-47aa-49b1-c56f-0865b79facb0"
      },
      "source": [
        "from google.colab import drive\n",
        "drive.mount('/content/drive', force_remount=True)"
      ],
      "execution_count": null,
      "outputs": [
        {
          "output_type": "stream",
          "text": [
            "Mounted at /content/drive\n"
          ],
          "name": "stdout"
        }
      ]
    },
    {
      "cell_type": "code",
      "metadata": {
        "id": "-YsLCBfL0s2n"
      },
      "source": [
        "!pip install SimpleITK"
      ],
      "execution_count": null,
      "outputs": []
    },
    {
      "cell_type": "code",
      "metadata": {
        "id": "qMZIrR-EzMVj"
      },
      "source": [
        "import SimpleITK as sitk\n",
        "import os\n",
        "from tqdm import tqdm\n",
        "import numpy as np\n",
        "import glob2"
      ],
      "execution_count": null,
      "outputs": []
    },
    {
      "cell_type": "code",
      "metadata": {
        "id": "En_Sj3ifzo1S"
      },
      "source": [
        "WRITER = sitk.ImageFileWriter()\n",
        "WRITER.KeepOriginalImageUIDOn()\n",
        "def write_dicom(slide, slides_name, output_path, i):\n",
        "  global WRITER\n",
        "  file_name = f\"{slides_name.split('.')[0]}_{i}.dcm\"\n",
        "  if os.path.isfile(os.path.join(output_path, file_name)):\n",
        "    print('[INFO] Alert Filename Duplicated!____________________________________________')\n",
        "  else:\n",
        "    WRITER.SetFileName(os.path.join(output_path, file_name))\n",
        "    WRITER.Execute(slide)"
      ],
      "execution_count": null,
      "outputs": []
    },
    {
      "cell_type": "code",
      "metadata": {
        "id": "lzOvMX6uyvi4"
      },
      "source": [
        "def load_nii_format_volume (input_path):\n",
        "    file_name = os.path.basename(input_path)\n",
        "    print(\"[INFO] Loading \", file_name)\n",
        "\n",
        "    reader = sitk.ImageFileReader()\n",
        "    reader.SetImageIO(\"NiftiImageIO\")\n",
        "    reader.SetFileName(input_path)\n",
        "    slides = reader.Execute()\n",
        "\n",
        "    print(\"[INFO] Volume Size: \", slides.GetSize())\n",
        "    return slides, file_name"
      ],
      "execution_count": null,
      "outputs": []
    },
    {
      "cell_type": "code",
      "metadata": {
        "id": "M-u_DCDQ4G48"
      },
      "source": [
        "STATIC_IMAGE_FILTER = sitk.StatisticsImageFilter()\n",
        "def is_black_mask(slide_mask):\n",
        "  STATIC_IMAGE_FILTER.Execute(slide_mask)\n",
        "  max_value = STATIC_IMAGE_FILTER.GetMaximum()\n",
        "  if max_value > 0.0:\n",
        "    return False\n",
        "  else:\n",
        "    return True"
      ],
      "execution_count": null,
      "outputs": []
    },
    {
      "cell_type": "code",
      "metadata": {
        "id": "LzNnDQBdOl7r"
      },
      "source": [
        "THRESHOLD_FILTER = sitk.ThresholdImageFilter()\n",
        "THRESHOLD_FILTER.SetLower(0.0)\n",
        "THRESHOLD_FILTER.SetLower(0.0)\n",
        "THRESHOLD_FILTER.SetOutsideValue(1.0)\n",
        "def normalize_mask(slide_mask):\n",
        "  global THRESHOLD_FILTER\n",
        "  slide_mask = THRESHOLD_FILTER.Execute(slide_mask)\n",
        "  return slide_mask"
      ],
      "execution_count": null,
      "outputs": []
    },
    {
      "cell_type": "code",
      "metadata": {
        "id": "oPBeKcp2xthW"
      },
      "source": [
        "def covid19_ct_lung_and_infection_segmentation(\n",
        "    input_ct_dir='/content/drive/MyDrive/Dataset/COVID-19 CT Lung and Infection Segmentation/COVID-19-CT-Seg_20cases',\n",
        "    input_lungmask_dir='/content/drive/MyDrive/Dataset/COVID-19 CT Lung and Infection Segmentation/Lung_Mask',\n",
        "    input_lesionmask_dir='/content/drive/MyDrive/Dataset/COVID-19 CT Lung and Infection Segmentation/Infection_Mask',\n",
        "    output_covid_ct_dir='/content/drive/MyDrive/Colab Notebooks/Covid19/Phase2_IncorporatingBinaryClassification/Dataset/COVID/Covid',\n",
        "    output_covid_lungmask_dir='/content/drive/MyDrive/Colab Notebooks/Covid19/Phase2_IncorporatingBinaryClassification/Dataset/COVID/Covid_LungMask',\n",
        "    output_covid_lesionmask_dir='/content/drive/MyDrive/Colab Notebooks/Covid19/Phase2_IncorporatingBinaryClassification/Dataset/COVID/Covid_LesionMask',\n",
        "    output_normal_ct_dir='/content/drive/MyDrive/Colab Notebooks/Covid19/Phase2_IncorporatingBinaryClassification/Dataset/NONCOVID/Normal',\n",
        "    output_normal_lungmask_dir='/content/drive/MyDrive/Colab Notebooks/Covid19/Phase2_IncorporatingBinaryClassification/Dataset/NONCOVID/Normal_LungMask'\n",
        "):\n",
        "  for filename in os.listdir(input_ct_dir):\n",
        "    slides_ct, slides_ct_name = load_nii_format_volume(os.path.join(input_ct_dir, filename))\n",
        "    slides_lungmask, slides_lungmask_name = load_nii_format_volume(os.path.join(input_lungmask_dir, filename))\n",
        "    slides_lesionmask, slides_lesionmask_name = load_nii_format_volume(os.path.join(input_lesionmask_dir, filename))\n",
        "    if (slides_ct.GetDepth() == slides_lungmask.GetDepth() and slides_ct.GetDepth() == slides_lesionmask.GetDepth()):\n",
        "      print('[INFO] Valid Data:', slides_ct_name)\n",
        "      print('[INFO] Normalizing Mask...')\n",
        "      slides_lungmask = normalize_mask(slides_lungmask)\n",
        "      slides_lesionmask = normalize_mask(slides_lesionmask)\n",
        "      print('[INFO] Saving...')\n",
        "      for i in tqdm(range(slides_ct.GetDepth())):\n",
        "        if not is_black_mask(slides_lungmask[:,:,i]):\n",
        "          if not is_black_mask(slides_lesionmask[:,:,i]):\n",
        "            write_dicom(slides_ct[:,:,i], slides_ct_name, output_covid_ct_dir, i)\n",
        "            write_dicom(slides_lungmask[:,:,i], slides_ct_name, output_covid_lungmask_dir, i)\n",
        "            write_dicom(slides_lesionmask[:,:,i], slides_ct_name, output_covid_lesionmask_dir, i)\n",
        "          else:\n",
        "            write_dicom(slides_ct[:,:,i], slides_ct_name, output_normal_ct_dir, i)\n",
        "            write_dicom(slides_lungmask[:,:,i], slides_ct_name, output_normal_lungmask_dir, i)\n",
        "    else:\n",
        "      print('[INFO] Invalid Data:', slides_ct_name)\n",
        "      break"
      ],
      "execution_count": null,
      "outputs": []
    },
    {
      "cell_type": "code",
      "metadata": {
        "id": "_KPQ8TrSL_ks"
      },
      "source": [
        "CAST_FILTER = sitk.CastImageFilter()\n",
        "CAST_FILTER.SetOutputPixelType(sitk.sitkInt16)\n",
        "def covid19_ct_segmentation_dataset(\n",
        "    input_ct_file='/content/drive/MyDrive/Dataset/COVID-19 CT segmentation dataset/tr_im.nii.gz',\n",
        "    input_lungmask_file='/content/drive/MyDrive/Dataset/COVID-19 CT segmentation dataset/tr_lungmasks_updated.nii.gz',\n",
        "    input_lesionmask_file='/content/drive/MyDrive/Dataset/COVID-19 CT segmentation dataset/tr_mask.nii.gz',\n",
        "    output_covid_ct_dir='/content/drive/MyDrive/Colab Notebooks/Covid19/Phase2_IncorporatingBinaryClassification/Dataset/COVID/Covid',\n",
        "    output_covid_lungmask_dir='/content/drive/MyDrive/Colab Notebooks/Covid19/Phase2_IncorporatingBinaryClassification/Dataset/COVID/Covid_LungMask',\n",
        "    output_covid_lesionmask_dir='/content/drive/MyDrive/Colab Notebooks/Covid19/Phase2_IncorporatingBinaryClassification/Dataset/COVID/Covid_LesionMask',\n",
        "    output_normal_ct_dir='/content/drive/MyDrive/Colab Notebooks/Covid19/Phase2_IncorporatingBinaryClassification/Dataset/NONCOVID/Normal',\n",
        "    output_normal_lungmask_dir='/content/drive/MyDrive/Colab Notebooks/Covid19/Phase2_IncorporatingBinaryClassification/Dataset/NONCOVID/Normal_LungMask'\n",
        "):\n",
        "  global CAST_FILTER\n",
        "  slides_ct, slides_ct_name = load_nii_format_volume(input_ct_file)\n",
        "  slides_lungmask, slides_lungmask_name = load_nii_format_volume(input_lungmask_file)\n",
        "  slides_lesionmask, slides_lesionmask_name = load_nii_format_volume(input_lesionmask_file)\n",
        "  if (slides_ct.GetDepth() == slides_lungmask.GetDepth() and slides_ct.GetDepth() == slides_lesionmask.GetDepth()):\n",
        "    print('[INFO] Valid Data:', slides_ct_name)\n",
        "    print('[INFO] Normalizing Mask...')\n",
        "    slides_lungmask = normalize_mask(slides_lungmask)\n",
        "    slides_lesionmask = normalize_mask(slides_lesionmask)\n",
        "    print('[INFO] Casting to int16 ...')\n",
        "    slides_ct = CAST_FILTER.Execute(slides_ct)\n",
        "    slides_lungmask = CAST_FILTER.Execute(slides_lungmask)\n",
        "    slides_lesionmask = CAST_FILTER.Execute(slides_lesionmask)\n",
        "    print('[INFO] Saving...')\n",
        "    for i in tqdm(range(slides_ct.GetDepth())):\n",
        "      if not is_black_mask(slides_lungmask[:,:,i]):\n",
        "        if not is_black_mask(slides_lesionmask[:,:,i]):\n",
        "          write_dicom(slides_ct[:,:,i], slides_ct_name, output_covid_ct_dir, i)\n",
        "          write_dicom(slides_lungmask[:,:,i], slides_ct_name, output_covid_lungmask_dir, i)\n",
        "          write_dicom(slides_lesionmask[:,:,i], slides_ct_name, output_covid_lesionmask_dir, i)\n",
        "        else:\n",
        "          write_dicom(slides_ct[:,:,i], slides_ct_name, output_normal_ct_dir, i)\n",
        "          write_dicom(slides_lungmask[:,:,i], slides_ct_name, output_normal_lungmask_dir, i)\n",
        "  else:\n",
        "    print('[INFO] Invalid Data:', slides_ct_name)"
      ],
      "execution_count": null,
      "outputs": []
    },
    {
      "cell_type": "code",
      "metadata": {
        "id": "bQaauPndnEVX"
      },
      "source": [
        "def radiopaedia(\n",
        "    input_ct_dir='/content/drive/MyDrive/Dataset/Radiopaedia/rp_im',\n",
        "    input_lungmask_dir='/content/drive/MyDrive/Dataset/Radiopaedia/rp_lung_msk',\n",
        "    input_lesionmask_dir='/content/drive/MyDrive/Dataset/Radiopaedia/rp_msk',\n",
        "    output_covid_ct_dir='/content/drive/MyDrive/Colab Notebooks/Covid19/Phase2_IncorporatingBinaryClassification/Dataset/COVID/Covid',\n",
        "    output_covid_lungmask_dir='/content/drive/MyDrive/Colab Notebooks/Covid19/Phase2_IncorporatingBinaryClassification/Dataset/COVID/Covid_LungMask',\n",
        "    output_covid_lesionmask_dir='/content/drive/MyDrive/Colab Notebooks/Covid19/Phase2_IncorporatingBinaryClassification/Dataset/COVID/Covid_LesionMask',\n",
        "    output_normal_ct_dir='/content/drive/MyDrive/Colab Notebooks/Covid19/Phase2_IncorporatingBinaryClassification/Dataset/NONCOVID/Normal',\n",
        "    output_normal_lungmask_dir='/content/drive/MyDrive/Colab Notebooks/Covid19/Phase2_IncorporatingBinaryClassification/Dataset/NONCOVID/Normal_LungMask'\n",
        "):\n",
        "  for filename in os.listdir(input_ct_dir):\n",
        "    slides_ct, slides_ct_name = load_nii_format_volume(os.path.join(input_ct_dir, filename))\n",
        "    slides_lungmask, slides_lungmask_name = load_nii_format_volume(os.path.join(input_lungmask_dir, filename))\n",
        "    slides_lesionmask, slides_lesionmask_name = load_nii_format_volume(os.path.join(input_lesionmask_dir, filename))\n",
        "    if (slides_ct.GetDepth() == slides_lungmask.GetDepth() and slides_ct.GetDepth() == slides_lesionmask.GetDepth()):\n",
        "      print('[INFO] Valid Data:', slides_ct_name)\n",
        "      print('[INFO] Normalizing Mask...')\n",
        "      slides_lungmask = normalize_mask(slides_lungmask)\n",
        "      slides_lesionmask = normalize_mask(slides_lesionmask)\n",
        "      print('[INFO] Casting to int16 ...')\n",
        "      slides_ct = CAST_FILTER.Execute(slides_ct)\n",
        "      slides_lungmask = CAST_FILTER.Execute(slides_lungmask)\n",
        "      slides_lesionmask = CAST_FILTER.Execute(slides_lesionmask)\n",
        "      print('[INFO] Saving...')\n",
        "      for i in tqdm(range(slides_ct.GetDepth())):\n",
        "        if not is_black_mask(slides_lungmask[:,:,i]):\n",
        "          if not is_black_mask(slides_lesionmask[:,:,i]):\n",
        "            write_dicom(slides_ct[:,:,i], slides_ct_name, output_covid_ct_dir, i)\n",
        "            write_dicom(slides_lungmask[:,:,i], slides_ct_name, output_covid_lungmask_dir, i)\n",
        "            write_dicom(slides_lesionmask[:,:,i], slides_ct_name, output_covid_lesionmask_dir, i)\n",
        "          else:\n",
        "            write_dicom(slides_ct[:,:,i], slides_ct_name, output_normal_ct_dir, i)\n",
        "            write_dicom(slides_lungmask[:,:,i], slides_ct_name, output_normal_lungmask_dir, i)\n",
        "    else:\n",
        "      print('[INFO] Invalid Data:', slides_ct_name)\n",
        "      break"
      ],
      "execution_count": null,
      "outputs": []
    },
    {
      "cell_type": "code",
      "metadata": {
        "id": "a5fDqGfwUUyx"
      },
      "source": [
        "def covid_ct_md_normal(\n",
        "    input_ct_dir='/content/drive/MyDrive/Dataset/COVID-CT-MD/NIfTI/Normal',\n",
        "    input_lungmask_dir='/content/drive/MyDrive/Dataset/COVID-CT-MD/NIfTI/Normal_LungMask',\n",
        "    output_normal_ct_dir='/content/drive/MyDrive/Colab Notebooks/Covid19/Phase2_IncorporatingBinaryClassification/Dataset/NONCOVID/Normal',\n",
        "    output_normal_lungmask_dir='/content/drive/MyDrive/Colab Notebooks/Covid19/Phase2_IncorporatingBinaryClassification/Dataset/NONCOVID/Normal_LungMask'\n",
        "):\n",
        "  for filename in os.listdir(input_ct_dir):\n",
        "    slides_ct, slides_ct_name = load_nii_format_volume(os.path.join(input_ct_dir, filename))\n",
        "    slides_lungmask, slides_lungmask_name = load_nii_format_volume(os.path.join(input_lungmask_dir, filename.replace(\".nii.gz\", \"_lungmask_.nii\")))\n",
        "    if (slides_ct.GetDepth() == slides_lungmask.GetDepth()):\n",
        "      print('[INFO] Valid Data:', slides_ct_name)\n",
        "      print('[INFO] Normalizing Mask...')\n",
        "      slides_lungmask = normalize_mask(slides_lungmask)\n",
        "      print('[INFO] Saving...')\n",
        "      for i in tqdm(range(slides_ct.GetDepth())):\n",
        "        if not is_black_mask(slides_lungmask[:,:,i]):\n",
        "          write_dicom(slides_ct[:,:,i], slides_ct_name, output_normal_ct_dir, i)\n",
        "          write_dicom(slides_lungmask[:,:,i], slides_ct_name, output_normal_lungmask_dir, i)\n",
        "    else:\n",
        "      print('[INFO] Invalid Data:', slides_ct_name)\n",
        "      break"
      ],
      "execution_count": null,
      "outputs": []
    },
    {
      "cell_type": "code",
      "metadata": {
        "id": "BSqE_RBhjBN9"
      },
      "source": [
        "def mosmed(\n",
        "    input_ct_dir='/content/drive/MyDrive/Dataset/MosMed/CT-1',\n",
        "    input_lungmask_dir='/content/drive/MyDrive/Dataset/MosMed/lung_masks',\n",
        "    input_lesionmask_dir='/content/drive/MyDrive/Dataset/MosMed/masks',\n",
        "    output_covid_ct_dir='/content/drive/MyDrive/Colab Notebooks/Covid19/Phase2_IncorporatingBinaryClassification/Dataset/COVID/Covid',\n",
        "    output_covid_lungmask_dir='/content/drive/MyDrive/Colab Notebooks/Covid19/Phase2_IncorporatingBinaryClassification/Dataset/COVID/Covid_LungMask',\n",
        "    output_covid_lesionmask_dir='/content/drive/MyDrive/Colab Notebooks/Covid19/Phase2_IncorporatingBinaryClassification/Dataset/COVID/Covid_LesionMask',\n",
        "    output_normal_ct_dir='/content/drive/MyDrive/Colab Notebooks/Covid19/Phase2_IncorporatingBinaryClassification/Dataset/NONCOVID/Normal',\n",
        "    output_normal_lungmask_dir='/content/drive/MyDrive/Colab Notebooks/Covid19/Phase2_IncorporatingBinaryClassification/Dataset/NONCOVID/Normal_LungMask'\n",
        "):\n",
        "  for filename in os.listdir(input_ct_dir):\n",
        "    slides_ct, slides_ct_name = load_nii_format_volume(os.path.join(input_ct_dir, filename))\n",
        "    slides_lungmask, slides_lungmask_name = load_nii_format_volume(os.path.join(input_lungmask_dir, filename.replace(\".nii.gz\", \"_lungmask_.nii.gz\")))\n",
        "    slides_lesionmask, slides_lesionmask_name = load_nii_format_volume(os.path.join(input_lesionmask_dir, filename.replace(\".nii.gz\", \"_mask.nii\")))\n",
        "    if (slides_ct.GetDepth() == slides_lungmask.GetDepth() and slides_ct.GetDepth() == slides_lesionmask.GetDepth()):\n",
        "      print('[INFO] Valid Data:', slides_ct_name)\n",
        "      print('[INFO] Normalizing Mask...')\n",
        "      slides_lungmask = normalize_mask(slides_lungmask)\n",
        "      slides_lesionmask = normalize_mask(slides_lesionmask)\n",
        "      print('[INFO] Saving...')\n",
        "      for i in tqdm(range(slides_ct.GetDepth())):\n",
        "        if not is_black_mask(slides_lungmask[:,:,i]):\n",
        "          if not is_black_mask(slides_lesionmask[:,:,i]):\n",
        "            write_dicom(slides_ct[:,:,i], slides_ct_name, output_covid_ct_dir, i)\n",
        "            write_dicom(slides_lungmask[:,:,i], slides_ct_name, output_covid_lungmask_dir, i)\n",
        "            write_dicom(slides_lesionmask[:,:,i], slides_ct_name, output_covid_lesionmask_dir, i)\n",
        "          else:\n",
        "            write_dicom(slides_ct[:,:,i], slides_ct_name, output_normal_ct_dir, i)\n",
        "            write_dicom(slides_lungmask[:,:,i], slides_ct_name, output_normal_lungmask_dir, i)\n",
        "    else:\n",
        "      print('[INFO] Invalid Data:', slides_ct_name)\n",
        "      break"
      ],
      "execution_count": null,
      "outputs": []
    },
    {
      "cell_type": "code",
      "metadata": {
        "id": "oBbgm8QBkKLH"
      },
      "source": [
        "def covid_ct_md_cap(\n",
        "    input_ct_dir='/content/drive/MyDrive/Dataset/COVID-CT-MD/NIfTI/CAP',\n",
        "    input_lungmask_dir='/content/drive/MyDrive/Dataset/COVID-CT-MD/NIfTI/CAP_LungMask',\n",
        "    output_normal_ct_dir='/content/drive/MyDrive/Colab Notebooks/Covid19/Phase2_IncorporatingBinaryClassification/Dataset/NONCOVID/CAP',\n",
        "    output_normal_lungmask_dir='/content/drive/MyDrive/Colab Notebooks/Covid19/Phase2_IncorporatingBinaryClassification/Dataset/NONCOVID/CAP_LungMask'\n",
        "):\n",
        "  for filename in os.listdir(input_ct_dir):\n",
        "    slides_ct, slides_ct_name = load_nii_format_volume(os.path.join(input_ct_dir, filename))\n",
        "    slides_lungmask, slides_lungmask_name = load_nii_format_volume(os.path.join(input_lungmask_dir, filename.replace(\".nii.gz\", \"_lungmask_.nii.gz\")))\n",
        "    if (slides_ct.GetDepth() == slides_lungmask.GetDepth()):\n",
        "      print('[INFO] Valid Data:', slides_ct_name)\n",
        "      print('[INFO] Normalizing Mask...')\n",
        "      slides_lungmask = normalize_mask(slides_lungmask)\n",
        "      print('[INFO] Saving...')\n",
        "      for i in tqdm(range(slides_ct.GetDepth())):\n",
        "        if not is_black_mask(slides_lungmask[:,:,i]):\n",
        "          write_dicom(slides_ct[:,:,i], slides_ct_name, output_normal_ct_dir, i)\n",
        "          write_dicom(slides_lungmask[:,:,i], slides_ct_name, output_normal_lungmask_dir, i)\n",
        "    else:\n",
        "      print('[INFO] Invalid Data:', slides_ct_name)\n",
        "      break"
      ],
      "execution_count": null,
      "outputs": []
    },
    {
      "cell_type": "code",
      "metadata": {
        "id": "s6GNCza_mxPV"
      },
      "source": [
        "# #copy to anywhere in code that a test should be saved\n",
        "# file_name = f\"test.nii.gz\"\n",
        "# WRITER.SetFileName(os.path.join(\"/content/drive/MyDrive/Colab Notebooks/Covid19/Phase2_IncorporatingBinaryClassification/Dataset\", file_name))\n",
        "# WRITER.Execute(slides_lesionmask)"
      ],
      "execution_count": null,
      "outputs": []
    },
    {
      "cell_type": "code",
      "metadata": {
        "id": "D9xyHpjZ8AzA"
      },
      "source": [
        "# #main\n",
        "# covid19_ct_lung_and_infection_segmentation()\n",
        "# covid19_ct_segmentation_dataset()\n",
        "# radiopaedia()\n",
        "# covid_ct_md_normal()\n",
        "# mosmed()\n",
        "# covid_ct_md_cap()"
      ],
      "execution_count": null,
      "outputs": []
    },
    {
      "cell_type": "code",
      "metadata": {
        "id": "dRaE4xdDlgWM"
      },
      "source": [
        "# !ls -1 /content/drive/MyDrive/Colab\\ Notebooks/Covid19/Phase2_IncorporatingBinaryClassification/Dataset/NONCOVID/Normal_LungMask | wc -l\n",
        "# !ls -1 /content/drive/MyDrive/Colab\\ Notebooks/Covid19/Phase2_IncorporatingBinaryClassification/Dataset/COVID/Covid_LungMask | wc -l\n",
        "# 12562 + 3100"
      ],
      "execution_count": null,
      "outputs": []
    },
    {
      "cell_type": "code",
      "metadata": {
        "id": "LQGHHD9qlajY"
      },
      "source": [
        "datset_path = \"/content/drive/MyDrive/Colab Notebooks/Covid19/Phase2_IncorporatingBinaryClassification/Dataset\"\n",
        "covid_data_path = \"/content/drive/MyDrive/Colab Notebooks/Covid19/Phase2_IncorporatingBinaryClassification/Dataset/COVID/Covid\"\n",
        "normal_data_path = \"/content/drive/MyDrive/Colab Notebooks/Covid19/Phase2_IncorporatingBinaryClassification/Dataset/NONCOVID/Normal\"\n",
        "cap_data_path = \"/content/drive/MyDrive/Colab Notebooks/Covid19/Phase2_IncorporatingBinaryClassification/Dataset/NONCOVID/CAP\"\n",
        "def generate_train_validation_test_set():\n",
        "  train_ratio = 0.65\n",
        "  validation_ratio = 0.20\n",
        "  test_ratio = 0.15\n",
        "\n",
        "  images_covid = glob2.glob(os.path.join(covid_data_path, \"*.dcm\"))\n",
        "  images_normal = glob2.glob(os.path.join(normal_data_path, \"*.dcm\"))\n",
        "  images_cap = glob2.glob(os.path.join(cap_data_path, \"*.dcm\"))\n",
        "\n",
        "  covid_length = len(images_covid)\n",
        "  normal_length = len(images_normal)\n",
        "  cap_length = len(images_cap)\n",
        "  print(covid_length, normal_length, cap_length)\n",
        "\n",
        "  images_HU_Covid = []\n",
        "  images_HU_Normal = []\n",
        "  for image in images_covid:\n",
        "    if (os.path.basename(image)).split('_')[0] != \"radiopaedia\":\n",
        "      images_HU_Covid.append(image)\n",
        "  for image in images_normal:\n",
        "    if (os.path.basename(image)).split('_')[0] != \"radiopaedia\":\n",
        "      images_HU_Normal.append(image)\n",
        "\n",
        "  covid_length = len(images_HU_Covid)\n",
        "  normal_length = len(images_HU_Normal)\n",
        "  print(covid_length, normal_length)\n",
        "  images_covid = images_HU_Covid\n",
        "  images_normal = images_HU_Normal\n",
        "\n",
        "  covid_train_end_idx = int(covid_length * train_ratio) - 1 \n",
        "  covid_validation_end_idx = int(covid_length * (train_ratio + validation_ratio)) - 1\n",
        "  normal_train_end_idx = int(normal_length * train_ratio) - 1\n",
        "  normal_validation_end_idx = int(normal_length * (train_ratio + validation_ratio)) - 1\n",
        "  cap_train_end_idx = int(cap_length * train_ratio) - 1 \n",
        "  cap_validation_end_idx = int(cap_length * (train_ratio + validation_ratio)) - 1\n",
        "\n",
        "  np.random.shuffle(images_covid)\n",
        "  np.random.shuffle(images_normal)\n",
        "  np.random.shuffle(images_cap)\n",
        "\n",
        "  # covid\n",
        "  with open(os.path.join(datset_path, \"covid_train.txt\"), \"w\") as f:\n",
        "    for line in images_covid[:covid_train_end_idx]:\n",
        "      f.write(os.path.basename(line)+'\\n')\n",
        "  f.close() \n",
        "\n",
        "  with open(os.path.join(datset_path, \"covid_validation.txt\"), \"w\") as f:\n",
        "    for line in images_covid[covid_train_end_idx:covid_validation_end_idx]:\n",
        "      f.write(os.path.basename(line)+'\\n')\n",
        "  f.close() \n",
        "\n",
        "  with open(os.path.join(datset_path, \"covid_test.txt\"), \"w\") as f:\n",
        "    for line in images_covid[covid_validation_end_idx:]:\n",
        "      f.write(os.path.basename(line)+'\\n')\n",
        "  f.close() \n",
        "\n",
        "  # normal\n",
        "  with open(os.path.join(datset_path, \"normal_train.txt\"), \"w\") as f:\n",
        "    for line in images_normal[:covid_train_end_idx]:\n",
        "      f.write(os.path.basename(line)+'\\n')\n",
        "  f.close() \n",
        "\n",
        "  with open(os.path.join(datset_path, \"normal_validation.txt\"), \"w\") as f:\n",
        "    for line in images_normal[covid_train_end_idx:covid_validation_end_idx]:\n",
        "      f.write(os.path.basename(line)+'\\n')\n",
        "  f.close() \n",
        "\n",
        "  with open(os.path.join(datset_path, \"normal_test.txt\"), \"w\") as f:\n",
        "    for line in images_normal[covid_validation_end_idx:covid_length]:\n",
        "      f.write(os.path.basename(line)+'\\n')\n",
        "  f.close() \n",
        "\n",
        "  # cap\n",
        "  with open(os.path.join(datset_path, \"cap_train.txt\"), \"w\") as f:\n",
        "    for line in images_cap[:covid_train_end_idx]:\n",
        "      f.write(os.path.basename(line)+'\\n')\n",
        "  f.close() \n",
        "\n",
        "  with open(os.path.join(datset_path, \"cap_validation.txt\"), \"w\") as f:\n",
        "    for line in images_cap[covid_train_end_idx:covid_validation_end_idx]:\n",
        "      f.write(os.path.basename(line)+'\\n')\n",
        "  f.close() \n",
        "\n",
        "  with open(os.path.join(datset_path, \"cap_test.txt\"), \"w\") as f:\n",
        "    for line in images_cap[covid_validation_end_idx:covid_length]:\n",
        "      f.write(os.path.basename(line)+'\\n')\n",
        "  f.close() \n"
      ],
      "execution_count": null,
      "outputs": []
    },
    {
      "cell_type": "code",
      "metadata": {
        "id": "c7HPYVvG4NLe",
        "colab": {
          "base_uri": "https://localhost:8080/"
        },
        "outputId": "31a0ff21-f7c7-4991-b5ae-c048ffd19f0f"
      },
      "source": [
        "# generate_train_validation_test_set()"
      ],
      "execution_count": null,
      "outputs": [
        {
          "output_type": "stream",
          "text": [
            "3100 12562 7673\n",
            "2607 12238\n"
          ],
          "name": "stdout"
        }
      ]
    },
    {
      "cell_type": "code",
      "metadata": {
        "id": "acu_2eBSJp4I"
      },
      "source": [
        "# !rm /content/drive/MyDrive/Colab\\ Notebooks/Covid19/Phase2_IncorporatingBinaryClassification/Dataset/NONCOVID/Normal_LungMask/*\n",
        "# !rm /content/drive/MyDrive/Colab\\ Notebooks/Covid19/Phase2_IncorporatingBinaryClassification/Dataset/NONCOVID/Normal/*\n",
        "# !rm /content/drive/MyDrive/Colab\\ Notebooks/Covid19/Phase2_IncorporatingBinaryClassification/Dataset/COVID/Covid_LesionMask/*\n",
        "# !rm /content/drive/MyDrive/Colab\\ Notebooks/Covid19/Phase2_IncorporatingBinaryClassification/Dataset/COVID/Covid_LungMask/*\n",
        "# !rm /content/drive/MyDrive/Colab\\ Notebooks/Covid19/Phase2_IncorporatingBinaryClassification/Dataset/COVID/Covid/*"
      ],
      "execution_count": null,
      "outputs": []
    }
  ]
}