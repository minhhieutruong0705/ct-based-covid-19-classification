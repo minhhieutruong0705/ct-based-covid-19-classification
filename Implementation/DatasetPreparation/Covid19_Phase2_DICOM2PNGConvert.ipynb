{
  "nbformat": 4,
  "nbformat_minor": 0,
  "metadata": {
    "colab": {
      "name": "Covid19_Phase2_DICOM2PNGConvert.ipynb",
      "provenance": [],
      "collapsed_sections": []
    },
    "kernelspec": {
      "name": "python3",
      "display_name": "Python 3"
    },
    "language_info": {
      "name": "python"
    }
  },
  "cells": [
    {
      "cell_type": "code",
      "metadata": {
        "id": "fb_xe_PSVG0I"
      },
      "source": [
        "import pydicom as dicom\n",
        "import os\n",
        "import cv2\n",
        "import glob2\n",
        "import numpy as np\n",
        "from tqdm import tqdm"
      ],
      "execution_count": null,
      "outputs": []
    },
    {
      "cell_type": "code",
      "metadata": {
        "id": "RuYm7MalVj49"
      },
      "source": [
        "%cd ~/Desktop/Minh\\ Hieu"
      ],
      "execution_count": null,
      "outputs": []
    },
    {
      "cell_type": "code",
      "metadata": {
        "id": "pBPZJvXkVYZC"
      },
      "source": [
        "if __name__ == \"__main__\":\n",
        "  folder_covid = 'zip/Dataset/COVID'\n",
        "  folder_nonCovid = 'zip/Dataset/NONCOVID'\n",
        "  folder_covid_png = 'Dataset_PNG/COVID'\n",
        "  folder_nonCovid_png = 'Dataset_PNG/NONCOVID'\n",
        "  dataset_path = \"Dataset_PNG\""
      ],
      "execution_count": 1,
      "outputs": []
    },
    {
      "cell_type": "code",
      "metadata": {
        "id": "jem6jLxiWCaJ"
      },
      "source": [
        "def convert_dicom_png (in_folder, out_folder):\n",
        "  lower = -1200\n",
        "  upper = 100\n",
        "  for filename in tqdm(os.listdir(in_folder)):\n",
        "    ds = dicom.dcmread(os.path.join(in_folder, filename))\n",
        "    image = (ds.pixel_array).astype('float32')\n",
        "    if np.amax(image) == 1:\n",
        "      image[image!=1] = 0\n",
        "      image[image==1] = 255\n",
        "    elif np.amax(image) != 255 and np.amin(image) != 0:\n",
        "      image[image < lower] = lower\n",
        "      image[image > upper] = upper\n",
        "      image = image - lower\n",
        "      image = image / (upper - lower)\n",
        "      image = (image * 255)\n",
        "    filename_out = filename.replace(\".dcm\", \".png\")\n",
        "    cv2.imwrite(os.path.join(out_folder, filename_out), image)"
      ],
      "execution_count": null,
      "outputs": []
    },
    {
      "cell_type": "code",
      "metadata": {
        "id": "FMWBtHGcZ2PK"
      },
      "source": [
        "def generate_train_validation_test_set(covid_path, normal_path, datset_path):\n",
        "  train_ratio = 0.65\n",
        "  validation_ratio = 0.20\n",
        "  test_ratio = 0.15\n",
        "\n",
        "  images_covid = glob2.glob(os.path.join(os.path.join(covid_path, \"Covid\"), \"*.png\"))\n",
        "  images_normal = glob2.glob(os.path.join(os.path.join(normal_path, \"Normal\"), \"*.png\"))\n",
        "  images_cap = glob2.glob(os.path.join(os.path.join(normal_path, \"CAP\"), \"*.png\"))\n",
        "\n",
        "  covid_length = len(images_covid)\n",
        "  normal_length = len(images_normal)\n",
        "  cap_length = len(images_cap)\n",
        "  print(covid_length, normal_length, cap_length)\n",
        "\n",
        "  covid_train_end_idx = int(covid_length * train_ratio) - 1 \n",
        "  covid_validation_end_idx = int(covid_length * (train_ratio + validation_ratio)) - 1\n",
        "  normal_train_end_idx = int(normal_length * train_ratio) - 1\n",
        "  normal_validation_end_idx = int(normal_length * (train_ratio + validation_ratio)) - 1\n",
        "  cap_train_end_idx = int(cap_length * train_ratio) - 1 \n",
        "  cap_validation_end_idx = int(cap_length * (train_ratio + validation_ratio)) - 1\n",
        "\n",
        "  np.random.shuffle(images_covid)\n",
        "  np.random.shuffle(images_normal)\n",
        "  np.random.shuffle(images_cap)\n",
        "\n",
        "  covid\n",
        "  with open(os.path.join(datset_path, \"covid_train.txt\"), \"w\") as f:\n",
        "    for line in images_covid[:covid_train_end_idx]:\n",
        "      f.write(os.path.basename(line)+'\\n')\n",
        "  f.close() \n",
        "\n",
        "  with open(os.path.join(datset_path, \"covid_validation.txt\"), \"w\") as f:\n",
        "    for line in images_covid[covid_train_end_idx:covid_validation_end_idx]:\n",
        "      f.write(os.path.basename(line)+'\\n')\n",
        "  f.close() \n",
        "\n",
        "  with open(os.path.join(datset_path, \"covid_test.txt\"), \"w\") as f:\n",
        "    for line in images_covid[covid_validation_end_idx:]:\n",
        "      f.write(os.path.basename(line)+'\\n')\n",
        "  f.close() \n",
        "\n",
        "  # normal\n",
        "  with open(os.path.join(datset_path, \"normal_train.txt\"), \"w\") as f:\n",
        "    for line in images_normal[:covid_train_end_idx]:\n",
        "      f.write(os.path.basename(line)+'\\n')\n",
        "  f.close() \n",
        "\n",
        "  with open(os.path.join(datset_path, \"normal_validation.txt\"), \"w\") as f:\n",
        "    for line in images_normal[covid_train_end_idx:covid_validation_end_idx]:\n",
        "      f.write(os.path.basename(line)+'\\n')\n",
        "  f.close() \n",
        "\n",
        "  with open(os.path.join(datset_path, \"normal_test.txt\"), \"w\") as f:\n",
        "    for line in images_normal[covid_validation_end_idx:covid_length]:\n",
        "      f.write(os.path.basename(line)+'\\n')\n",
        "  f.close() \n",
        "\n",
        "  # cap\n",
        "  with open(os.path.join(datset_path, \"cap_train.txt\"), \"w\") as f:\n",
        "    for line in images_cap[:covid_train_end_idx]:\n",
        "      f.write(os.path.basename(line)+'\\n')\n",
        "  f.close() \n",
        "\n",
        "  with open(os.path.join(datset_path, \"cap_validation.txt\"), \"w\") as f:\n",
        "    for line in images_cap[covid_train_end_idx:covid_validation_end_idx]:\n",
        "      f.write(os.path.basename(line)+'\\n')\n",
        "  f.close() \n",
        "\n",
        "  with open(os.path.join(datset_path, \"cap_test.txt\"), \"w\") as f:\n",
        "    for line in images_cap[covid_validation_end_idx:covid_length]:\n",
        "      f.write(os.path.basename(line)+'\\n')\n",
        "  f.close() "
      ],
      "execution_count": null,
      "outputs": []
    },
    {
      "cell_type": "code",
      "metadata": {
        "colab": {
          "base_uri": "https://localhost:8080/"
        },
        "id": "l5zK_9khXrS6",
        "outputId": "6fe37e66-bc5c-4ace-c87b-72157daa1e57"
      },
      "source": [
        "if __name__ == \"__main__\":\n",
        "  # convert_dicom_png(os.path.join(folder_covid, \"Covid\"), os.path.join(folder_covid_png, \"Covid\"))\n",
        "  # convert_dicom_png(os.path.join(folder_covid, \"Covid_LungMask\"), os.path.join(folder_covid_png, \"Covid_LungMask\"))\n",
        "  # convert_dicom_png(os.path.join(folder_covid, \"Covid_LesionMask\"), os.path.join(folder_covid_png, \"Covid_LesionMask\"))\n",
        "  \n",
        "  # convert_dicom_png(os.path.join(folder_nonCovid, \"Normal\"), os.path.join(folder_nonCovid_png, \"Normal\"))\n",
        "  # convert_dicom_png(os.path.join(folder_nonCovid, \"Normal_LungMask\"), os.path.join(folder_nonCovid_png, \"Normal_LungMask\"))\n",
        "\n",
        "  # convert_dicom_png(os.path.join(folder_nonCovid, \"CAP\"), os.path.join(folder_nonCovid_png, \"CAP\"))\n",
        "  # convert_dicom_png(os.path.join(folder_nonCovid, \"CAP_LungMask\"), os.path.join(folder_nonCovid_png, \"CAP_LungMask\"))\n",
        "  \n",
        "  # generate_train_validation_test_set(folder_covid_png, folder_nonCovid_png, dataset_path)"
      ],
      "execution_count": null,
      "outputs": [
        {
          "output_type": "stream",
          "text": [
            "3100 12562 7673\n"
          ],
          "name": "stdout"
        }
      ]
    }
  ]
}