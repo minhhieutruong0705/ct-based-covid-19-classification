{
  "nbformat": 4,
  "nbformat_minor": 0,
  "metadata": {
    "colab": {
      "name": "Covid19_CrAsppNet.ipynb",
      "provenance": [],
      "collapsed_sections": []
    },
    "kernelspec": {
      "name": "python3",
      "display_name": "Python 3"
    },
    "language_info": {
      "name": "python"
    }
  },
  "cells": [
    {
      "cell_type": "code",
      "metadata": {
        "colab": {
          "base_uri": "https://localhost:8080/"
        },
        "id": "oV3420CCiIw0",
        "outputId": "e0179139-9995-4b40-e7a8-d51dad075c42"
      },
      "source": [
        "# from google.colab import drive\n",
        "# drive.mount('/content/drive', force_remount=True)"
      ],
      "execution_count": null,
      "outputs": [
        {
          "output_type": "stream",
          "text": [
            "Mounted at /content/drive\n"
          ],
          "name": "stdout"
        }
      ]
    },
    {
      "cell_type": "code",
      "metadata": {
        "id": "OUHjHpgdkknU"
      },
      "source": [
        "# !pip install import-ipynb"
      ],
      "execution_count": null,
      "outputs": []
    },
    {
      "cell_type": "code",
      "metadata": {
        "id": "ofCCHP6OiSxu"
      },
      "source": [
        "# !cp '/content/drive/MyDrive/Colab Notebooks/Covid19/Covid19_CRNet.ipynb' ."
      ],
      "execution_count": null,
      "outputs": []
    },
    {
      "cell_type": "code",
      "metadata": {
        "id": "IZa6i85C85v6"
      },
      "source": [
        "import torch\n",
        "import torch.nn as nn\n",
        "import import_ipynb\n",
        "from torch.nn import functional as F\n",
        "from collections import OrderedDict\n",
        "from Covid19_CRNet import CRNet"
      ],
      "execution_count": null,
      "outputs": []
    },
    {
      "cell_type": "code",
      "metadata": {
        "id": "pJgSEuCRPBdM"
      },
      "source": [
        "class AstrousConv(nn.Module):\n",
        "  def __init__(self, in_channels, out_channels, dilation):\n",
        "    super(AstrousConv, self).__init__()\n",
        "    \n",
        "    self.astrous_conv = nn.Sequential(\n",
        "        nn.Conv2d(\n",
        "            in_channels=in_channels, \n",
        "            out_channels=out_channels, \n",
        "            kernel_size=3,\n",
        "            padding=dilation,\n",
        "            dilation=dilation,\n",
        "            bias=False\n",
        "            ),\n",
        "        nn.BatchNorm2d(out_channels),\n",
        "        nn.ReLU()\n",
        "    )\n",
        "  \n",
        "  def forward(self, x):\n",
        "    return self.astrous_conv(x)"
      ],
      "execution_count": null,
      "outputs": []
    },
    {
      "cell_type": "code",
      "metadata": {
        "id": "VQBG5stLi5wr"
      },
      "source": [
        "class SpatialPooling(nn.Module):\n",
        "  def __init__(self, in_channels, out_channels):\n",
        "    super(SpatialPooling, self).__init__()\n",
        "    \n",
        "    self.global_average_pooling = nn.Sequential(\n",
        "        nn.AdaptiveAvgPool2d(1),\n",
        "        nn.Conv2d(\n",
        "            in_channels=in_channels,\n",
        "            out_channels=out_channels,\n",
        "            kernel_size=1,\n",
        "            bias=False\n",
        "        ),\n",
        "        nn.BatchNorm2d(out_channels),\n",
        "        nn.ReLU()\n",
        "    )\n",
        " \n",
        "  def forward(self, x):\n",
        "    size = x.shape[-2:]\n",
        "    x = self.global_average_pooling(x)\n",
        "    return F.interpolate(x, size=size, mode='bilinear', align_corners=False)"
      ],
      "execution_count": null,
      "outputs": []
    },
    {
      "cell_type": "code",
      "metadata": {
        "id": "kJVrIDCVAE8M"
      },
      "source": [
        "class ASPP(nn.Module):\n",
        "  def __init__(self, in_channels=128, out_channels=256, atrous_rates=[6, 12, 18]):\n",
        "    super(ASPP, self).__init__()\n",
        "    \n",
        "    self.atrous_convs = nn.ModuleList()\n",
        "    self.atrous_convs.append(nn.Sequential(\n",
        "        nn.Conv2d(\n",
        "            in_channels=in_channels,\n",
        "            out_channels=out_channels,\n",
        "            kernel_size=1,\n",
        "            bias=False\n",
        "        ),\n",
        "        nn.BatchNorm2d(out_channels),\n",
        "        nn.ReLU()\n",
        "    ))\n",
        "    for rate in atrous_rates:\n",
        "      self.atrous_convs.append(AstrousConv(\n",
        "          in_channels=in_channels,\n",
        "          out_channels=out_channels,\n",
        "          dilation=rate\n",
        "      ))\n",
        "    \n",
        "    self.spatial_pooling = SpatialPooling(\n",
        "        in_channels=in_channels,\n",
        "        out_channels=out_channels\n",
        "    )\n",
        "\n",
        "    self.pyramid_pooling = nn.Sequential(\n",
        "        nn.Conv2d(\n",
        "            in_channels=(len(self.atrous_convs) + 1) * out_channels,\n",
        "            out_channels=out_channels,\n",
        "            kernel_size=1,\n",
        "            bias=False\n",
        "        ),\n",
        "        nn.BatchNorm2d(out_channels),\n",
        "        nn.ReLU(),\n",
        "        nn.Dropout(p=0.5)\n",
        "    )\n",
        "\n",
        "  def forward(self, x):\n",
        "    aspp_elements = []\n",
        "    for atrous_conv in self.atrous_convs:\n",
        "      aspp_elements.append(atrous_conv(x))\n",
        "    aspp_elements.append(self.spatial_pooling(x))\n",
        "    assp_stack = torch.cat(aspp_elements, dim=1)\n",
        "    return self.pyramid_pooling(assp_stack)"
      ],
      "execution_count": null,
      "outputs": []
    },
    {
      "cell_type": "code",
      "metadata": {
        "id": "c4pheSMdadRY"
      },
      "source": [
        "def test_aspp():\n",
        "  x = torch.randn((3, 128, 27, 27))\n",
        "  model = ASPP()\n",
        "  pred = model(x)\n",
        "  print(pred.shape)"
      ],
      "execution_count": null,
      "outputs": []
    },
    {
      "cell_type": "code",
      "metadata": {
        "id": "65SQeAAHs48V"
      },
      "source": [
        "class CRASPPNet(CRNet):\n",
        "  def __init__(self, img_dimwh=224, in_channels=3, downs_features=[32, 64, 128], atrous_rates=[6, 12, 18]):\n",
        "    super(CRASPPNet, self).__init__(img_dimwh=img_dimwh, in_channels=in_channels, downs_features=downs_features)\n",
        "    self.aspp = ASPP(\n",
        "        in_channels=downs_features[-1],\n",
        "        out_channels=downs_features[-1] * 2,\n",
        "        atrous_rates=atrous_rates\n",
        "    )\n",
        "    self.bottom.linear = nn.Linear(self._cal_features__(img_dimwh) ** 2 * (downs_features[-1] * 2), 2)\n",
        "\n",
        "  def forward(self, x):\n",
        "    x = self.downs(x)\n",
        "    x = self.aspp(x)\n",
        "    x = self.bottom['globavgpool'](x)\n",
        "    x = torch.flatten(x, 1)\n",
        "    return self.bottom['linear'](x)\n",
        "  "
      ],
      "execution_count": null,
      "outputs": []
    },
    {
      "cell_type": "code",
      "metadata": {
        "id": "GK41nmTa8nCu"
      },
      "source": [
        "def test_craspp():\n",
        "  x = torch.randn((16, 3, 224, 224))\n",
        "  model = CRASPPNet()\n",
        "  pred = model(x)\n",
        "  print(pred.shape)"
      ],
      "execution_count": null,
      "outputs": []
    },
    {
      "cell_type": "code",
      "metadata": {
        "colab": {
          "base_uri": "https://localhost:8080/"
        },
        "id": "1ZsnJYxHhGLm",
        "outputId": "a4ccb619-3f46-489c-90df-093e8ee88bc3"
      },
      "source": [
        "if __name__ == \"__main__\":\n",
        "  test_aspp()\n",
        "  test_craspp()"
      ],
      "execution_count": null,
      "outputs": [
        {
          "output_type": "stream",
          "text": [
            "torch.Size([3, 256, 27, 27])\n",
            "torch.Size([16, 2])\n"
          ],
          "name": "stdout"
        }
      ]
    }
  ]
}