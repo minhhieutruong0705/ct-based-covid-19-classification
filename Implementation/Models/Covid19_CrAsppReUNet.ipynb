{
  "nbformat": 4,
  "nbformat_minor": 0,
  "metadata": {
    "colab": {
      "name": "Covid19_CrAsppReUNet.ipynb",
      "provenance": [],
      "collapsed_sections": []
    },
    "kernelspec": {
      "name": "python3",
      "display_name": "Python 3"
    },
    "language_info": {
      "name": "python"
    }
  },
  "cells": [
    {
      "cell_type": "code",
      "metadata": {
        "id": "yXROAnfFxmre"
      },
      "source": [
        "# from google.colab import drive\n",
        "# drive.mount('/content/drive', force_remount=True)"
      ],
      "execution_count": null,
      "outputs": []
    },
    {
      "cell_type": "code",
      "metadata": {
        "id": "3N4zaUKe1J7k"
      },
      "source": [
        "# !pip install import-ipynb"
      ],
      "execution_count": null,
      "outputs": []
    },
    {
      "cell_type": "code",
      "metadata": {
        "id": "letTwdXb1MSa"
      },
      "source": [
        "# !cp '/content/drive/MyDrive/Colab Notebooks/Covid19/Covid19_CrAsppNet.ipynb' .\n",
        "# !cp '/content/drive/MyDrive/Colab Notebooks/Covid19/Covid19_CRNet.ipynb' ."
      ],
      "execution_count": null,
      "outputs": []
    },
    {
      "cell_type": "code",
      "metadata": {
        "id": "8fYIPHHF1fAT"
      },
      "source": [
        "import torch\n",
        "import torch.nn as nn\n",
        "import import_ipynb\n",
        "from collections import OrderedDict\n",
        "from Covid19_CrAsppNet import CRASPPNet"
      ],
      "execution_count": null,
      "outputs": []
    },
    {
      "cell_type": "code",
      "metadata": {
        "id": "BGeMUhSqbZPG"
      },
      "source": [
        "class Conv(nn.Module):\n",
        "  def __init__(self, in_channels, out_channels):\n",
        "    super(Conv, self).__init__()\n",
        "    self.layers = OrderedDict([\n",
        "                               ('conv', nn.Conv2d(\n",
        "                                   in_channels = in_channels,\n",
        "                                   out_channels = out_channels,\n",
        "                                   kernel_size = 7, \n",
        "                                   stride = 1,\n",
        "                                   padding = 3,\n",
        "                                   bias=False\n",
        "                               )),\n",
        "                               ('norm', nn.BatchNorm2d(out_channels)),\n",
        "                               ('relu', nn.ReLU(inplace=True)),          \n",
        "    ])\n",
        "    self.conv = nn.Sequential(self.layers)\n",
        "  \n",
        "  def forward(self, x):\n",
        "    return self.conv(x)"
      ],
      "execution_count": null,
      "outputs": []
    },
    {
      "cell_type": "code",
      "metadata": {
        "id": "IpfLeUAXuL9u"
      },
      "source": [
        "class ASPPWrapper(nn.Sequential):\n",
        "  def __init__(self, aspp_module, in_channels=256, out_channels=128):\n",
        "    super(ASPPWrapper, self).__init__(\n",
        "        aspp_module,\n",
        "        nn.Conv2d(\n",
        "            in_channels=in_channels, \n",
        "            out_channels=out_channels,\n",
        "            kernel_size=7, \n",
        "            stride=1,\n",
        "            padding=3,\n",
        "            bias=False\n",
        "            ),\n",
        "            nn.BatchNorm2d(out_channels),\n",
        "            nn.ReLU()\n",
        "    )"
      ],
      "execution_count": null,
      "outputs": []
    },
    {
      "cell_type": "code",
      "metadata": {
        "id": "hiaOG3ZeXoNn"
      },
      "source": [
        "class UpTransConv(nn.Module):\n",
        "  def __init__(self, in_channels, out_channels, size=None, scale_factor=None):\n",
        "    super(UpTransConv, self).__init__()\n",
        "    \n",
        "    self.layers = OrderedDict([\n",
        "                               ('up_sample', nn.Upsample(\n",
        "                                   size=size,\n",
        "                                   scale_factor=scale_factor,\n",
        "                                   mode='bilinear',\n",
        "                                   align_corners=False\n",
        "                               )),               \n",
        "                               ('conv_trans', nn.ConvTranspose2d(\n",
        "                                  in_channels=in_channels,\n",
        "                                  out_channels=out_channels,\n",
        "                                  kernel_size=7,\n",
        "                                  stride=1,\n",
        "                                  padding=3,\n",
        "                                  bias=True\n",
        "                               ))\n",
        "    ])\n",
        "    self.conv = nn.Sequential(self.layers)\n",
        "  \n",
        "  def forward(self, x):\n",
        "    return self.conv(x)"
      ],
      "execution_count": null,
      "outputs": []
    },
    {
      "cell_type": "code",
      "metadata": {
        "id": "JmMUY37i2JuS"
      },
      "source": [
        "class CRASPPReUNet(CRASPPNet):\n",
        "  def __init__(self, img_dimwh=224, in_channels=3, out_channels=1, downs_features=[32, 64, 128], atrous_rates=[6, 12, 18], scale_factor=3):\n",
        "    super(CRASPPReUNet, self).__init__(img_dimwh=img_dimwh, in_channels=in_channels, downs_features=downs_features, atrous_rates=atrous_rates)\n",
        "    self.downs_features = downs_features\n",
        "\n",
        "    self.aspp_wrapper = ASPPWrapper(\n",
        "        self.aspp,\n",
        "        in_channels=downs_features[-1] * 2,\n",
        "        out_channels=downs_features[-1]\n",
        "    )\n",
        "    up_features = downs_features[-1] + downs_features[0]\n",
        "    self.up = UpTransConv(\n",
        "        in_channels=downs_features[-1],\n",
        "        out_channels=up_features,\n",
        "        scale_factor=scale_factor\n",
        "    )\n",
        "    self.segment_branch = nn.ModuleDict({\n",
        "        'middle' : Conv(in_channels=up_features, out_channels=int(up_features/4)),\n",
        "        'final' : nn.Sequential(\n",
        "            UpTransConv(\n",
        "                in_channels=int(up_features/4),\n",
        "                out_channels=downs_features[0],\n",
        "                size=img_dimwh\n",
        "            ),\n",
        "            Conv(\n",
        "                in_channels=downs_features[0],\n",
        "                out_channels=downs_features[0]\n",
        "            ),\n",
        "            nn.Conv2d(\n",
        "              in_channels=downs_features[0], \n",
        "              out_channels=out_channels,\n",
        "              kernel_size=1, \n",
        "              bias=True\n",
        "            )\n",
        "        )\n",
        "    })   \n",
        "    self.bottom.linear=nn.Linear(\n",
        "        in_features=self._cal_features_up__(img_dimwh, scale_factor)**2 * (int(up_features/4) + up_features),\n",
        "        out_features=2\n",
        "    )\n",
        "  def _cal_features_up__(self, img_dimwh, scale_factor):\n",
        "    globavgpool_dimwh = img_dimwh\n",
        "    for i in range(len(self.downs_features)):\n",
        "      globavgpool_dimwh = int(globavgpool_dimwh / 2 - 0.5)\n",
        "    globavgpool_dimwh = globavgpool_dimwh * scale_factor\n",
        "    globavgpool_dimwh = int(globavgpool_dimwh / 2)\n",
        "    return globavgpool_dimwh\n",
        "\n",
        "  def forward(self, x):\n",
        "    x = self.downs(x)\n",
        "    x = self.aspp_wrapper(x)\n",
        "    x = self.up(x)\n",
        "    x_middle = self.segment_branch['middle'](x)\n",
        "    x_segmentation = self.segment_branch['final'](x_middle)\n",
        "    x_concat = torch.cat((x, x_middle), dim=1)\n",
        "    x_classification = self.bottom['globavgpool'](x_concat)\n",
        "    x_classification = torch.flatten(x_classification, 1)\n",
        "    x_classification = self.bottom['linear'](x_classification)\n",
        "    return x_classification, x_segmentation"
      ],
      "execution_count": null,
      "outputs": []
    },
    {
      "cell_type": "code",
      "metadata": {
        "id": "ZynEic4rxL-d"
      },
      "source": [
        "def test_crasppreu():\n",
        "  x = torch.randn((16, 3, 224, 224))\n",
        "  model = CRASPPReUNet()\n",
        "  cls, seg = model(x)\n",
        "  print(cls.shape),\n",
        "  print(seg.shape)"
      ],
      "execution_count": null,
      "outputs": []
    },
    {
      "cell_type": "code",
      "metadata": {
        "id": "KLbU0-_71Ppr"
      },
      "source": [
        "if __name__ == '__main__':\n",
        "  test_crasppreu()"
      ],
      "execution_count": null,
      "outputs": []
    }
  ]
}