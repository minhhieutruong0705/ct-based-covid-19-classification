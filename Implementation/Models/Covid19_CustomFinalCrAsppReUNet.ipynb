{
  "nbformat": 4,
  "nbformat_minor": 0,
  "metadata": {
    "colab": {
      "name": "Covid19_CustomFinalCrAsppReUNet.ipynb",
      "provenance": [],
      "collapsed_sections": []
    },
    "kernelspec": {
      "name": "python3",
      "display_name": "Python 3"
    },
    "language_info": {
      "name": "python"
    }
  },
  "cells": [
    {
      "cell_type": "code",
      "metadata": {
        "id": "yXROAnfFxmre"
      },
      "source": [
        "# from google.colab import drive\n",
        "# drive.mount('/content/drive', force_remount=True)"
      ],
      "execution_count": null,
      "outputs": []
    },
    {
      "cell_type": "code",
      "metadata": {
        "id": "3N4zaUKe1J7k"
      },
      "source": [
        "# !pip install import-ipynb"
      ],
      "execution_count": null,
      "outputs": []
    },
    {
      "cell_type": "code",
      "metadata": {
        "id": "letTwdXb1MSa"
      },
      "source": [
        "# !cp '/content/drive/MyDrive/Colab Notebooks/Covid19/Covid19_CrAsppNet.ipynb' .\n",
        "# !cp '/content/drive/MyDrive/Colab Notebooks/Covid19/Covid19_CRNet.ipynb' .\n",
        "# !cp '/content/drive/MyDrive/Colab Notebooks/Covid19/Covid19_CrAsppNet.ipynb' ."
      ],
      "execution_count": null,
      "outputs": []
    },
    {
      "cell_type": "code",
      "metadata": {
        "id": "-SL02_RfCt5h"
      },
      "source": [
        "# %cd Desktop/Minh\\ Hieu"
      ],
      "execution_count": null,
      "outputs": []
    },
    {
      "cell_type": "code",
      "metadata": {
        "id": "8fYIPHHF1fAT"
      },
      "source": [
        "import torch\n",
        "import torch.nn as nn\n",
        "import import_ipynb\n",
        "import torchvision.transforms.functional as TF\n",
        "from collections import OrderedDict\n",
        "from Covid19_CrAsppNet import CRASPPNet"
      ],
      "execution_count": null,
      "outputs": []
    },
    {
      "cell_type": "code",
      "metadata": {
        "id": "Hdu4v4Fac9Z0"
      },
      "source": [
        "class Conv(nn.Module):\n",
        "  def __init__(self, in_channels, out_channels):\n",
        "    super(Conv, self).__init__()\n",
        "    self.layers = OrderedDict([\n",
        "                               ('conv_1', nn.Conv2d(\n",
        "                                   in_channels = in_channels,\n",
        "                                   out_channels = out_channels,\n",
        "                                   kernel_size = 7, \n",
        "                                   stride = 1,\n",
        "                                   padding = 3,\n",
        "                                   bias=False\n",
        "                               )),\n",
        "                               ('norm_1', nn.BatchNorm2d(out_channels)),\n",
        "                               ('relu_1', nn.ReLU(inplace=True)),     \n",
        "                              #  ('conv_2', nn.Conv2d(\n",
        "                              #      in_channels = out_channels,\n",
        "                              #      out_channels = out_channels,\n",
        "                              #      kernel_size = 7, \n",
        "                              #      stride = 1,\n",
        "                              #      padding = 3,\n",
        "                              #      bias=False\n",
        "                              #  )),\n",
        "                              #  ('norm_2', nn.BatchNorm2d(out_channels)),\n",
        "                              #  ('relu_2', nn.ReLU(inplace=True)),         \n",
        "    ])\n",
        "    self.conv = nn.Sequential(self.layers)\n",
        "  \n",
        "  def forward(self, x):\n",
        "    return self.conv(x)"
      ],
      "execution_count": null,
      "outputs": []
    },
    {
      "cell_type": "code",
      "metadata": {
        "id": "IpfLeUAXuL9u"
      },
      "source": [
        "class ASPPWrapper(nn.Sequential):\n",
        "  def __init__(self, aspp_module, in_channels=256, out_channels=128):\n",
        "    super(ASPPWrapper, self).__init__(\n",
        "        aspp_module,\n",
        "        Conv(in_channels=in_channels, out_channels=out_channels)\n",
        "    )"
      ],
      "execution_count": null,
      "outputs": []
    },
    {
      "cell_type": "code",
      "metadata": {
        "id": "hiaOG3ZeXoNn"
      },
      "source": [
        "class UpTransConv(nn.Module):\n",
        "  def __init__(self, in_channels, out_channels, size=None, scale_factor=None):\n",
        "    super(UpTransConv, self).__init__()\n",
        "    self.layers = OrderedDict([\n",
        "                               ('up_sample', nn.Upsample(\n",
        "                                   size=size,\n",
        "                                   scale_factor=scale_factor,\n",
        "                                   mode='bilinear',\n",
        "                                   align_corners=False\n",
        "                               )),       \n",
        "                              #  ('trans_conv', nn.Conv2d(\n",
        "                              #      in_channels = in_channels,\n",
        "                              #      out_channels = out_channels,\n",
        "                              #      kernel_size = 7, \n",
        "                              #      stride = 1,\n",
        "                              #      padding = 3,\n",
        "                              #      bias=True\n",
        "                              #  ))        \n",
        "                               ('trans_conv', nn.ConvTranspose2d(\n",
        "                                  in_channels=in_channels,\n",
        "                                  out_channels=out_channels,\n",
        "                                  kernel_size=7,\n",
        "                                  stride=1,\n",
        "                                  padding=3,\n",
        "                                  bias=True\n",
        "                               ))\n",
        "    ])\n",
        "    self.conv = nn.Sequential(self.layers)\n",
        "  def forward(self, x):\n",
        "    return self.conv(x)"
      ],
      "execution_count": null,
      "outputs": []
    },
    {
      "cell_type": "code",
      "metadata": {
        "id": "iGsc4UZpdiAu"
      },
      "source": [
        "class CustomFinalCRASPPReUNet(CRASPPNet):\n",
        "  def __init__(self, img_dimwh=224, in_channels=3, out_channels=1, downs_features=[32, 64, 128], atrous_rates=[6, 12, 18], scale_factor=3):\n",
        "    super(CustomFinalCRASPPReUNet, self).__init__(img_dimwh=img_dimwh, in_channels=in_channels, downs_features=downs_features, atrous_rates=atrous_rates)\n",
        "    self.pool = nn.MaxPool2d(kernel_size=3, stride=2)\n",
        "    self.downs = nn.ModuleDict({})\n",
        "    self.aspp_wrapper = ASPPWrapper(\n",
        "        self.aspp,\n",
        "        in_channels=downs_features[-1] * 2,\n",
        "        out_channels=downs_features[-1]\n",
        "    )\n",
        "\n",
        "    for i, feature in enumerate(downs_features):\n",
        "      self.downs.update({f\"down_{i}\" : Conv(in_channels=in_channels, out_channels=feature)})\n",
        "      in_channels = feature\n",
        "\n",
        "    expand_features = downs_features[0] * scale_factor * scale_factor \n",
        "    self.main_up = nn.Sequential(\n",
        "        Conv(\n",
        "            in_channels=downs_features[-1],\n",
        "            out_channels=expand_features\n",
        "        ),\n",
        "        UpTransConv(\n",
        "            in_channels=expand_features,\n",
        "            out_channels=int(expand_features/scale_factor),\n",
        "            scale_factor=scale_factor\n",
        "        )\n",
        "    )\n",
        "\n",
        "    self.small_up = UpTransConv(\n",
        "        in_channels=downs_features[-1],\n",
        "        out_channels=downs_features[-2],\n",
        "        size=self._cal_dim_down__(img_dimwh, len(downs_features)) * scale_factor\n",
        "    )\n",
        "    self.main_small_conv = Conv(\n",
        "        in_channels=downs_features[-2]+int(expand_features/scale_factor),\n",
        "        out_channels=int(expand_features/scale_factor)\n",
        "    )\n",
        "\n",
        "    segmentation_expand_features = int((img_dimwh / (self._cal_dim_down__(img_dimwh, len(downs_features)) * scale_factor)) * downs_features[0])\n",
        "    self.small_refine = Conv(in_channels=downs_features[1], out_channels=downs_features[0])\n",
        "    self.segment_branch = nn.ModuleDict({\n",
        "        \"middle_0\" : Conv(\n",
        "            in_channels=int(expand_features/scale_factor),\n",
        "            out_channels=int(expand_features/scale_factor/2)\n",
        "            ),\n",
        "        \"middle_1\" : Conv(\n",
        "            in_channels=downs_features[0]+int(expand_features/scale_factor/2),\n",
        "            out_channels=int(expand_features/scale_factor/2)\n",
        "            ),\n",
        "        \"middle_2\" : Conv(\n",
        "            in_channels=int(expand_features/scale_factor/2),\n",
        "            out_channels=segmentation_expand_features + 1\n",
        "            ),\n",
        "        \"up\" : UpTransConv(\n",
        "            in_channels=segmentation_expand_features + 1,\n",
        "            out_channels=downs_features[0],\n",
        "            size=img_dimwh\n",
        "        ),\n",
        "        \"top_1\" : Conv(\n",
        "            in_channels=downs_features[0]*2,\n",
        "            out_channels=downs_features[0]\n",
        "            ),\n",
        "        \"top_2\" : nn.Conv2d(\n",
        "            in_channels=downs_features[0],\n",
        "            out_channels=out_channels,\n",
        "            kernel_size=1\n",
        "        )\n",
        "    })\n",
        "\n",
        "    self.tripple_pool = nn.MaxPool2d(\n",
        "        kernel_size=7,\n",
        "        stride=3,\n",
        "        padding=3 \n",
        "    )\n",
        "    self.classification_branch = nn.ModuleDict({\n",
        "        \"middle\" : Conv(\n",
        "            in_channels=int(expand_features/scale_factor)+int(expand_features/scale_factor/2),\n",
        "            out_channels=downs_features[-1]\n",
        "        ),\n",
        "         \"bottom\" : Conv(\n",
        "            in_channels=downs_features[-1]*2,\n",
        "            out_channels=downs_features[-1]\n",
        "        )\n",
        "    })\n",
        "    self.bottom.linear=nn.Linear(\n",
        "        in_features=(int(self._cal_dim_down__(img_dimwh, len(downs_features))/2)) ** 2 * downs_features[-1],\n",
        "        out_features=2\n",
        "    )\n",
        "\n",
        "  def _cal_dim_down__(self, img_dimwh, index):\n",
        "    globavgpool_dimwh = img_dimwh\n",
        "    for i in range(index):\n",
        "      globavgpool_dimwh = int(globavgpool_dimwh / 2 - 0.5)\n",
        "    return globavgpool_dimwh\n",
        "\n",
        "  def forward(self, x):\n",
        "    copy_dict = {}\n",
        "\n",
        "    ### Down\n",
        "    x = self.downs[\"down_0\"](x)\n",
        "    copy_dict.update({\"down_0\" : x})\n",
        "    x = self.pool(x)\n",
        "    x = self.downs[\"down_1\"](x)\n",
        "    copy_dict.update({\"down_1\" : x})\n",
        "\n",
        "    ### Continue Down\n",
        "    x = self.pool(x)\n",
        "    x = self.downs[\"down_2\"](x)\n",
        "    copy_dict.update({\"down_2\" : x})\n",
        "\n",
        "    ### Continue Down\n",
        "    x = self.pool(x)\n",
        "\n",
        "    ### Bottom\n",
        "    x = self.aspp_wrapper(x)\n",
        "    copy_dict.update({\"aspp\" : x})\n",
        "\n",
        "    ### Up\n",
        "    x = self.main_up(x)\n",
        "\n",
        "    ### Middle Up\n",
        "    x_small_up = self.small_up(copy_dict[\"down_2\"])\n",
        "    x = torch.cat((x_small_up, x), dim=1)\n",
        "    x = self.main_small_conv(x)\n",
        "    copy_dict.update({\"main_small_up_conv\" : x})\n",
        "\n",
        "    ### Segmentation\n",
        "    x = self.segment_branch[\"middle_0\"](x)\n",
        "    x_same_level = TF.resize(copy_dict[\"down_1\"], size=x.shape[2:])\n",
        "    x_same_level = self.small_refine(x_same_level)\n",
        "    x = torch.cat((x_same_level, x), dim=1)\n",
        "    x = self.segment_branch[\"middle_1\"](x)\n",
        "    copy_dict.update({\"segmentation_low_level\" : x})\n",
        "    x = self.segment_branch[\"middle_2\"](x)\n",
        "    x = self.segment_branch[\"up\"](x)\n",
        "    x = torch.cat((copy_dict[\"down_0\"], x), dim=1)\n",
        "    x = self.segment_branch[\"top_1\"](x)\n",
        "    x_segmentation = self.segment_branch[\"top_2\"](x)\n",
        "\n",
        "    ### Classification\n",
        "    x = torch.cat((copy_dict[\"main_small_up_conv\"], copy_dict[\"segmentation_low_level\"]), dim=1)\n",
        "    x = self.classification_branch[\"middle\"](x)\n",
        "    x = self.tripple_pool(x)\n",
        "    x = torch.cat((copy_dict[\"aspp\"], x), dim=1)\n",
        "    x = self.classification_branch[\"bottom\"](x)\n",
        "    x = self.bottom['globavgpool'](x)\n",
        "    x = torch.flatten(x, 1)\n",
        "    x_classification = self.bottom['linear'](x)\n",
        "\n",
        "    return x_classification, x_segmentation"
      ],
      "execution_count": null,
      "outputs": []
    },
    {
      "cell_type": "code",
      "metadata": {
        "id": "ZynEic4rxL-d"
      },
      "source": [
        "def test_final_crasppreu():\n",
        "  x = torch.randn((16, 3, 224, 224)).cuda()\n",
        "  model = CustomFinalCRASPPReUNet(img_dimwh=224).cuda()\n",
        "  cls, seg = model(x)\n",
        "  print(cls.shape),\n",
        "  print(seg.shape)"
      ],
      "execution_count": null,
      "outputs": []
    },
    {
      "cell_type": "code",
      "metadata": {
        "id": "KLbU0-_71Ppr"
      },
      "source": [
        "if __name__ == '__main__':\n",
        "  test_final_crasppreu()"
      ],
      "execution_count": null,
      "outputs": []
    }
  ]
}