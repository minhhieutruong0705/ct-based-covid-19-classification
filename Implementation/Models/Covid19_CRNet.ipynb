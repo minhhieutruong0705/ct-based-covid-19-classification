{
  "nbformat": 4,
  "nbformat_minor": 0,
  "metadata": {
    "colab": {
      "name": "Covid19_CRNet.ipynb",
      "provenance": [],
      "collapsed_sections": []
    },
    "kernelspec": {
      "display_name": "Python 3",
      "name": "python3"
    },
    "language_info": {
      "name": "python"
    }
  },
  "cells": [
    {
      "cell_type": "code",
      "metadata": {
        "id": "syYgGXvFnCk5"
      },
      "source": [
        "import torch\n",
        "import torch.nn as nn\n",
        "import torch.nn.functional as F\n",
        "from collections import OrderedDict"
      ],
      "execution_count": null,
      "outputs": []
    },
    {
      "cell_type": "code",
      "metadata": {
        "id": "TyICLn_5qhJp"
      },
      "source": [
        "class ConvPool(nn.Module):\n",
        "\n",
        "  def __init__(self, in_channels, out_channels, is_batch_norm = False):\n",
        "    super(ConvPool, self).__init__()\n",
        "    self.layers = OrderedDict([\n",
        "                               ('conv', nn.Conv2d(\n",
        "                                   in_channels = in_channels,\n",
        "                                   out_channels = out_channels,\n",
        "                                   kernel_size = 7, \n",
        "                                   stride = 1,\n",
        "                                   padding = 3\n",
        "                               )),\n",
        "                               ('norm', nn.BatchNorm2d(out_channels)),\n",
        "                               ('relu', nn.ReLU(inplace=True)),\n",
        "                               ('pool', nn.MaxPool2d(\n",
        "                                   kernel_size = 3,\n",
        "                                   stride = 2,\n",
        "                               ))               \n",
        "    ])\n",
        "    if (not is_batch_norm):\n",
        "      self.layers.pop('norm')\n",
        "    \n",
        "    self.conv = nn.Sequential(self.layers)\n",
        "  \n",
        "  def forward(self, x):\n",
        "    return self.conv(x)"
      ],
      "execution_count": null,
      "outputs": []
    },
    {
      "cell_type": "code",
      "metadata": {
        "id": "5frGc9ofQn7-"
      },
      "source": [
        "# test model architecture\n",
        "if __name__ == \"__main__\":\n",
        "  model = ConvPool(1, 1, True)\n",
        "  print(model)"
      ],
      "execution_count": null,
      "outputs": []
    },
    {
      "cell_type": "code",
      "metadata": {
        "id": "fXZ9qKaZo-4G"
      },
      "source": [
        "class CRNet(nn.Module):\n",
        "\n",
        "  def __init__(self, img_dimwh, in_channels=3, downs_features=[32, 64, 128]):\n",
        "    super(CRNet, self).__init__()\n",
        "    self.downs_features = downs_features\n",
        "\n",
        "    self.downs_layers = OrderedDict()\n",
        "    for i, feature in enumerate(downs_features):\n",
        "      self.downs_layers[f'convpool{i+1}'] = ConvPool(in_channels, feature, feature==32)\n",
        "      in_channels = feature\n",
        "    self.downs = nn.Sequential(self.downs_layers)\n",
        "\n",
        "    self.bottom = nn.ModuleDict({\n",
        "     'globavgpool' : nn.AvgPool2d(\n",
        "        kernel_size = 2,\n",
        "        stride = 2,\n",
        "     ),\n",
        "     'linear' : nn.Linear(self._cal_features__(img_dimwh) ** 2 * downs_features[-1], 2)   \n",
        "    })\n",
        "\n",
        "  def _cal_features__(self, img_dimwh):\n",
        "    globavgpool_dimwh = img_dimwh\n",
        "    for i in range(len(self.downs_features)):\n",
        "      globavgpool_dimwh = int(globavgpool_dimwh / 2 - 0.5)\n",
        "    globavgpool_dimwh = int(globavgpool_dimwh / 2)\n",
        "    return globavgpool_dimwh\n",
        "\n",
        "\n",
        "  def forward(self, x):\n",
        "    x = self.downs(x)\n",
        "    x = self.bottom['globavgpool'](x)\n",
        "    x = torch.flatten(x, 1)\n",
        "    return self.bottom['linear'](x)"
      ],
      "execution_count": null,
      "outputs": []
    },
    {
      "cell_type": "code",
      "metadata": {
        "id": "PowEp8tilgWy"
      },
      "source": [
        "# test model architecture\n",
        "if __name__ == \"__main__\":\n",
        "  model = CRNet(23)\n",
        "  print(model)"
      ],
      "execution_count": null,
      "outputs": []
    },
    {
      "cell_type": "code",
      "metadata": {
        "id": "pyxokyDiu08y"
      },
      "source": [
        "# test CRNet\n",
        "def test_CRNet():\n",
        "    x = torch.randn((1, 3, 224, 224))\n",
        "    model = CRNet(img_dimwh=224, in_channels=3)\n",
        "    pred = model(x)\n",
        "    output = F.log_softmax(pred, dim=1)\n",
        "    print(pred.shape, output)"
      ],
      "execution_count": null,
      "outputs": []
    },
    {
      "cell_type": "code",
      "metadata": {
        "id": "cBMV1TjWwQnt"
      },
      "source": [
        "if __name__ == '__main__':\n",
        "  test_CRNet()"
      ],
      "execution_count": null,
      "outputs": []
    }
  ]
}